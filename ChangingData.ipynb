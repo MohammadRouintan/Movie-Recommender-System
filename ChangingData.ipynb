{
 "cells": [
  {
   "attachments": {},
   "cell_type": "markdown",
   "metadata": {},
   "source": [
    "## Changing Data \n",
    "In this section, we change some datasets so that we can better analyze them"
   ]
  },
  {
   "cell_type": "code",
   "execution_count": 12,
   "metadata": {},
   "outputs": [],
   "source": [
    "import numpy as np\n",
    "import pandas as pd\n",
    "import json\n",
    "import csv\n",
    "import matplotlib.pyplot as plt\n",
    "from ast import literal_eval"
   ]
  },
  {
   "attachments": {},
   "cell_type": "markdown",
   "metadata": {},
   "source": [
    "### Credits Dataset Preparation"
   ]
  },
  {
   "cell_type": "code",
   "execution_count": 19,
   "metadata": {},
   "outputs": [
    {
     "data": {
      "text/html": [
       "<div>\n",
       "<style scoped>\n",
       "    .dataframe tbody tr th:only-of-type {\n",
       "        vertical-align: middle;\n",
       "    }\n",
       "\n",
       "    .dataframe tbody tr th {\n",
       "        vertical-align: top;\n",
       "    }\n",
       "\n",
       "    .dataframe thead th {\n",
       "        text-align: right;\n",
       "    }\n",
       "</style>\n",
       "<table border=\"1\" class=\"dataframe\">\n",
       "  <thead>\n",
       "    <tr style=\"text-align: right;\">\n",
       "      <th></th>\n",
       "      <th>cast</th>\n",
       "      <th>crew</th>\n",
       "      <th>id</th>\n",
       "    </tr>\n",
       "  </thead>\n",
       "  <tbody>\n",
       "    <tr>\n",
       "      <th>0</th>\n",
       "      <td>[{'cast_id': 14, 'character': 'Woody (voice)',...</td>\n",
       "      <td>[{'credit_id': '52fe4284c3a36847f8024f49', 'de...</td>\n",
       "      <td>862</td>\n",
       "    </tr>\n",
       "    <tr>\n",
       "      <th>1</th>\n",
       "      <td>[{'cast_id': 1, 'character': 'Alan Parrish', '...</td>\n",
       "      <td>[{'credit_id': '52fe44bfc3a36847f80a7cd1', 'de...</td>\n",
       "      <td>8844</td>\n",
       "    </tr>\n",
       "    <tr>\n",
       "      <th>2</th>\n",
       "      <td>[{'cast_id': 2, 'character': 'Max Goldman', 'c...</td>\n",
       "      <td>[{'credit_id': '52fe466a9251416c75077a89', 'de...</td>\n",
       "      <td>15602</td>\n",
       "    </tr>\n",
       "    <tr>\n",
       "      <th>3</th>\n",
       "      <td>[{'cast_id': 1, 'character': \"Savannah 'Vannah...</td>\n",
       "      <td>[{'credit_id': '52fe44779251416c91011acb', 'de...</td>\n",
       "      <td>31357</td>\n",
       "    </tr>\n",
       "    <tr>\n",
       "      <th>4</th>\n",
       "      <td>[{'cast_id': 1, 'character': 'George Banks', '...</td>\n",
       "      <td>[{'credit_id': '52fe44959251416c75039ed7', 'de...</td>\n",
       "      <td>11862</td>\n",
       "    </tr>\n",
       "  </tbody>\n",
       "</table>\n",
       "</div>"
      ],
      "text/plain": [
       "                                                cast  \\\n",
       "0  [{'cast_id': 14, 'character': 'Woody (voice)',...   \n",
       "1  [{'cast_id': 1, 'character': 'Alan Parrish', '...   \n",
       "2  [{'cast_id': 2, 'character': 'Max Goldman', 'c...   \n",
       "3  [{'cast_id': 1, 'character': \"Savannah 'Vannah...   \n",
       "4  [{'cast_id': 1, 'character': 'George Banks', '...   \n",
       "\n",
       "                                                crew     id  \n",
       "0  [{'credit_id': '52fe4284c3a36847f8024f49', 'de...    862  \n",
       "1  [{'credit_id': '52fe44bfc3a36847f80a7cd1', 'de...   8844  \n",
       "2  [{'credit_id': '52fe466a9251416c75077a89', 'de...  15602  \n",
       "3  [{'credit_id': '52fe44779251416c91011acb', 'de...  31357  \n",
       "4  [{'credit_id': '52fe44959251416c75039ed7', 'de...  11862  "
      ]
     },
     "execution_count": 19,
     "metadata": {},
     "output_type": "execute_result"
    }
   ],
   "source": [
    "credits = pd.read_csv(\"data/credits.csv\")\n",
    "credits.head()"
   ]
  },
  {
   "cell_type": "code",
   "execution_count": 3,
   "metadata": {},
   "outputs": [
    {
     "data": {
      "text/plain": [
       "(45476, 3)"
      ]
     },
     "execution_count": 3,
     "metadata": {},
     "output_type": "execute_result"
    }
   ],
   "source": [
    "credits.shape"
   ]
  },
  {
   "cell_type": "code",
   "execution_count": 5,
   "metadata": {},
   "outputs": [
    {
     "data": {
      "text/html": [
       "<div>\n",
       "<style scoped>\n",
       "    .dataframe tbody tr th:only-of-type {\n",
       "        vertical-align: middle;\n",
       "    }\n",
       "\n",
       "    .dataframe tbody tr th {\n",
       "        vertical-align: top;\n",
       "    }\n",
       "\n",
       "    .dataframe thead th {\n",
       "        text-align: right;\n",
       "    }\n",
       "</style>\n",
       "<table border=\"1\" class=\"dataframe\">\n",
       "  <thead>\n",
       "    <tr style=\"text-align: right;\">\n",
       "      <th></th>\n",
       "      <th>count</th>\n",
       "      <th>mean</th>\n",
       "      <th>std</th>\n",
       "      <th>min</th>\n",
       "      <th>25%</th>\n",
       "      <th>50%</th>\n",
       "      <th>75%</th>\n",
       "      <th>max</th>\n",
       "    </tr>\n",
       "  </thead>\n",
       "  <tbody>\n",
       "    <tr>\n",
       "      <th>id</th>\n",
       "      <td>45476.0</td>\n",
       "      <td>108345.997537</td>\n",
       "      <td>112443.796536</td>\n",
       "      <td>2.0</td>\n",
       "      <td>26443.25</td>\n",
       "      <td>60002.5</td>\n",
       "      <td>157302.0</td>\n",
       "      <td>469172.0</td>\n",
       "    </tr>\n",
       "  </tbody>\n",
       "</table>\n",
       "</div>"
      ],
      "text/plain": [
       "      count           mean            std  min       25%      50%       75%  \\\n",
       "id  45476.0  108345.997537  112443.796536  2.0  26443.25  60002.5  157302.0   \n",
       "\n",
       "         max  \n",
       "id  469172.0  "
      ]
     },
     "execution_count": 5,
     "metadata": {},
     "output_type": "execute_result"
    }
   ],
   "source": [
    "credits.describe().T"
   ]
  },
  {
   "cell_type": "code",
   "execution_count": 6,
   "metadata": {},
   "outputs": [
    {
     "name": "stdout",
     "output_type": "stream",
     "text": [
      "<class 'pandas.core.frame.DataFrame'>\n",
      "RangeIndex: 45476 entries, 0 to 45475\n",
      "Data columns (total 3 columns):\n",
      " #   Column  Non-Null Count  Dtype \n",
      "---  ------  --------------  ----- \n",
      " 0   cast    45476 non-null  object\n",
      " 1   crew    45476 non-null  object\n",
      " 2   id      45476 non-null  int64 \n",
      "dtypes: int64(1), object(2)\n",
      "memory usage: 1.0+ MB\n"
     ]
    }
   ],
   "source": [
    "credits.info()"
   ]
  },
  {
   "cell_type": "code",
   "execution_count": 7,
   "metadata": {},
   "outputs": [
    {
     "data": {
      "text/plain": [
       "cast    0\n",
       "crew    0\n",
       "id      0\n",
       "dtype: int64"
      ]
     },
     "execution_count": 7,
     "metadata": {},
     "output_type": "execute_result"
    }
   ],
   "source": [
    "credits.isnull().sum()"
   ]
  },
  {
   "cell_type": "code",
   "execution_count": 8,
   "metadata": {},
   "outputs": [
    {
     "data": {
      "text/plain": [
       "cast    0\n",
       "crew    0\n",
       "id      0\n",
       "dtype: int64"
      ]
     },
     "execution_count": 8,
     "metadata": {},
     "output_type": "execute_result"
    }
   ],
   "source": [
    "credits.isna().sum()"
   ]
  },
  {
   "cell_type": "code",
   "execution_count": 9,
   "metadata": {},
   "outputs": [
    {
     "data": {
      "text/plain": [
       "Index(['cast', 'crew', 'id'], dtype='object')"
      ]
     },
     "execution_count": 9,
     "metadata": {},
     "output_type": "execute_result"
    }
   ],
   "source": [
    "credits.columns"
   ]
  },
  {
   "cell_type": "code",
   "execution_count": 10,
   "metadata": {},
   "outputs": [
    {
     "data": {
      "text/plain": [
       "cast    43019\n",
       "crew    44669\n",
       "id      45432\n",
       "dtype: int64"
      ]
     },
     "execution_count": 10,
     "metadata": {},
     "output_type": "execute_result"
    }
   ],
   "source": [
    "credits.nunique()"
   ]
  },
  {
   "cell_type": "code",
   "execution_count": 15,
   "metadata": {},
   "outputs": [],
   "source": [
    "credits.drop_duplicates(inplace=True)"
   ]
  },
  {
   "cell_type": "code",
   "execution_count": 16,
   "metadata": {},
   "outputs": [
    {
     "data": {
      "text/plain": [
       "(45439, 3)"
      ]
     },
     "execution_count": 16,
     "metadata": {},
     "output_type": "execute_result"
    }
   ],
   "source": [
    "credits.shape"
   ]
  },
  {
   "cell_type": "code",
   "execution_count": 17,
   "metadata": {},
   "outputs": [
    {
     "data": {
      "text/plain": [
       "cast    43019\n",
       "crew    44669\n",
       "id      45432\n",
       "dtype: int64"
      ]
     },
     "execution_count": 17,
     "metadata": {},
     "output_type": "execute_result"
    }
   ],
   "source": [
    "credits.nunique()"
   ]
  },
  {
   "cell_type": "code",
   "execution_count": 18,
   "metadata": {},
   "outputs": [
    {
     "data": {
      "image/png": "[encoded data removed]",
      "text/plain": [
       "<Figure size 640x480 with 1 Axes>"
      ]
     },
     "metadata": {},
     "output_type": "display_data"
    }
   ],
   "source": [
    "credits.hist(bins=50)\n",
    "plt.show()"
   ]
  },
  {
   "cell_type": "code",
   "execution_count": 20,
   "metadata": {},
   "outputs": [],
   "source": [
    "def get_text(text, obj='name'):\n",
    "    text = literal_eval(text)\n",
    "    if len(text) == 1:\n",
    "        for i in text:\n",
    "            return i[obj]\n",
    "    else:\n",
    "        s = []\n",
    "        for i in text: \n",
    "            s.append(str(i[obj]))\n",
    "        return ', '.join(s)"
   ]
  },
  {
   "cell_type": "code",
   "execution_count": 22,
   "metadata": {},
   "outputs": [],
   "source": [
    "credits['name_crew'] = credits['crew'].apply(get_text, obj = \"name\")\n",
    "credits['department_crew'] = credits['crew'].apply(get_text, obj = \"department\")\n",
    "credits['gender_crew'] = credits['crew'].apply(get_text, obj = \"gender\")\n",
    "credits['job_crew'] = credits['crew'].apply(get_text, obj = \"job\")\n",
    "credits['profile_path_crew'] = credits['crew'].apply(get_text, obj = \"profile_path\")\n",
    "credits['id_crew'] = credits['crew'].apply(get_text, obj = \"id\")"
   ]
  },
  {
   "cell_type": "code",
   "execution_count": 23,
   "metadata": {},
   "outputs": [],
   "source": [
    "credits['name_cast'] = credits['cast'].apply(get_text, obj = \"name\")\n",
    "credits['order_cast'] = credits['cast'].apply(get_text, obj = \"order\")\n",
    "credits['gender_cast'] = credits['cast'].apply(get_text, obj = \"gender\")\n",
    "credits['credit_id_cast'] = credits['cast'].apply(get_text, obj = \"credit_id\")\n",
    "credits['profile_path_cast'] = credits['cast'].apply(get_text, obj = \"profile_path\")\n",
    "credits['id_cast'] = credits['cast'].apply(get_text, obj = \"id\")\n",
    "credits['character_cast'] = credits['cast'].apply(get_text, obj = \"character\")"
   ]
  },
  {
   "cell_type": "code",
   "execution_count": 24,
   "metadata": {},
   "outputs": [],
   "source": [
    "newCredits = credits.drop([\"crew\", \"cast\"], axis=1)"
   ]
  },
  {
   "cell_type": "code",
   "execution_count": 25,
   "metadata": {},
   "outputs": [
    {
     "data": {
      "text/html": [
       "<div>\n",
       "<style scoped>\n",
       "    .dataframe tbody tr th:only-of-type {\n",
       "        vertical-align: middle;\n",
       "    }\n",
       "\n",
       "    .dataframe tbody tr th {\n",
       "        vertical-align: top;\n",
       "    }\n",
       "\n",
       "    .dataframe thead th {\n",
       "        text-align: right;\n",
       "    }\n",
       "</style>\n",
       "<table border=\"1\" class=\"dataframe\">\n",
       "  <thead>\n",
       "    <tr style=\"text-align: right;\">\n",
       "      <th></th>\n",
       "      <th>id</th>\n",
       "      <th>name_crew</th>\n",
       "      <th>department_crew</th>\n",
       "      <th>gender_crew</th>\n",
       "      <th>job_crew</th>\n",
       "      <th>profile_path_crew</th>\n",
       "      <th>id_crew</th>\n",
       "      <th>name_cast</th>\n",
       "      <th>order_cast</th>\n",
       "      <th>gender_cast</th>\n",
       "      <th>credit_id_cast</th>\n",
       "      <th>profile_path_cast</th>\n",
       "      <th>id_cast</th>\n",
       "      <th>character_cast</th>\n",
       "    </tr>\n",
       "  </thead>\n",
       "  <tbody>\n",
       "    <tr>\n",
       "      <th>0</th>\n",
       "      <td>862</td>\n",
       "      <td>John Lasseter, Joss Whedon, Andrew Stanton, Jo...</td>\n",
       "      <td>Directing, Writing, Writing, Writing, Writing,...</td>\n",
       "      <td>2, 2, 2, 2, 0, 1, 0, 2, 2, 2, 2, 2, 0, 0, 0, 2...</td>\n",
       "      <td>Director, Screenplay, Screenplay, Screenplay, ...</td>\n",
       "      <td>/7EdqiNbr4FRjIhKHyPPdFfEEEFG.jpg, /dTiVsuaTVTe...</td>\n",
       "      <td>7879, 12891, 7, 12892, 12893, 12894, 12895, 12...</td>\n",
       "      <td>Tom Hanks, Tim Allen, Don Rickles, Jim Varney,...</td>\n",
       "      <td>0, 1, 2, 3, 4, 5, 6, 7, 8, 9, 10, 11, 12</td>\n",
       "      <td>2, 2, 2, 2, 2, 2, 1, 0, 2, 1, 2, 1, 2</td>\n",
       "      <td>52fe4284c3a36847f8024f95, 52fe4284c3a36847f802...</td>\n",
       "      <td>/pQFoyx7rp09CJTAb932F2g8Nlho.jpg, /uX2xVf6pMmP...</td>\n",
       "      <td>31, 12898, 7167, 12899, 12900, 7907, 8873, 111...</td>\n",
       "      <td>Woody (voice), Buzz Lightyear (voice), Mr. Pot...</td>\n",
       "    </tr>\n",
       "    <tr>\n",
       "      <th>1</th>\n",
       "      <td>8844</td>\n",
       "      <td>Larry J. Franco, Jonathan Hensleigh, James Hor...</td>\n",
       "      <td>Production, Writing, Sound, Directing, Editing...</td>\n",
       "      <td>2, 2, 2, 2, 2, 0, 0, 2, 2, 2, 2, 2, 2, 2, 2, 2</td>\n",
       "      <td>Executive Producer, Screenplay, Original Music...</td>\n",
       "      <td>None, /l1c4UFD3g0HVWj5f0CxXAvMAGiT.jpg, /oLOtX...</td>\n",
       "      <td>511, 876, 1729, 4945, 4951, 4952, 8023, 9967, ...</td>\n",
       "      <td>Robin Williams, Jonathan Hyde, Kirsten Dunst, ...</td>\n",
       "      <td>0, 1, 2, 3, 4, 5, 6, 7, 8, 9, 10, 11, 12, 13, ...</td>\n",
       "      <td>2, 2, 1, 0, 1, 1, 2, 1, 0, 1, 2, 1, 2, 0, 0, 0...</td>\n",
       "      <td>52fe44bfc3a36847f80a7c73, 52fe44bfc3a36847f80a...</td>\n",
       "      <td>/sojtJyIV3lkUeThD7A2oHNm8183.jpg, /7il5D76vx6Q...</td>\n",
       "      <td>2157, 8537, 205, 145151, 5149, 10739, 58563, 1...</td>\n",
       "      <td>Alan Parrish, Samuel Alan Parrish / Van Pelt, ...</td>\n",
       "    </tr>\n",
       "    <tr>\n",
       "      <th>2</th>\n",
       "      <td>15602</td>\n",
       "      <td>Howard Deutch, Mark Steven Johnson, Mark Steve...</td>\n",
       "      <td>Directing, Writing, Writing, Crew</td>\n",
       "      <td>2, 2, 2, 2</td>\n",
       "      <td>Director, Characters, Writer, Sound Recordist</td>\n",
       "      <td>/68Vae1HkU1NxQZ6KEmuxIpno7c9.jpg, /6trChNn3o2b...</td>\n",
       "      <td>26502, 16837, 16837, 1551320</td>\n",
       "      <td>Walter Matthau, Jack Lemmon, Ann-Margret, Soph...</td>\n",
       "      <td>0, 1, 2, 3, 4, 5, 6</td>\n",
       "      <td>2, 2, 1, 1, 1, 2, 2</td>\n",
       "      <td>52fe466a9251416c75077a8d, 52fe466a9251416c7507...</td>\n",
       "      <td>/xJVkvprOnzP5Zdh5y63y8HHniDZ.jpg, /chZmNRYMtqk...</td>\n",
       "      <td>6837, 3151, 13567, 16757, 589, 16523, 7166</td>\n",
       "      <td>Max Goldman, John Gustafson, Ariel Gustafson, ...</td>\n",
       "    </tr>\n",
       "    <tr>\n",
       "      <th>3</th>\n",
       "      <td>31357</td>\n",
       "      <td>Forest Whitaker, Ronald Bass, Ronald Bass, Ezr...</td>\n",
       "      <td>Directing, Writing, Production, Production, Pr...</td>\n",
       "      <td>2, 0, 0, 2, 1, 0, 0, 0, 2, 0</td>\n",
       "      <td>Director, Screenplay, Producer, Producer, Prod...</td>\n",
       "      <td>/4pMQkelS5lK661m9Kz3oIxLYiyS.jpg, None, None, ...</td>\n",
       "      <td>2178, 5144, 5144, 21968, 70592, 111118, 111118...</td>\n",
       "      <td>Whitney Houston, Angela Bassett, Loretta Devin...</td>\n",
       "      <td>0, 1, 2, 3, 4, 5, 6, 7, 8, 9</td>\n",
       "      <td>1, 1, 1, 1, 2, 2, 2, 2, 2, 2</td>\n",
       "      <td>52fe44779251416c91011aad, 52fe44779251416c9101...</td>\n",
       "      <td>/69ouDnXnmklYPr4sMJXWKYz81AL.jpg, /tHkgSzhEuJK...</td>\n",
       "      <td>8851, 9780, 18284, 51359, 66804, 352, 87118, 3...</td>\n",
       "      <td>Savannah 'Vannah' Jackson, Bernadine 'Bernie' ...</td>\n",
       "    </tr>\n",
       "    <tr>\n",
       "      <th>4</th>\n",
       "      <td>11862</td>\n",
       "      <td>Alan Silvestri, Elliot Davis, Nancy Meyers, Na...</td>\n",
       "      <td>Sound, Camera, Writing, Production, Writing, D...</td>\n",
       "      <td>2, 2, 1, 1, 2, 2, 2</td>\n",
       "      <td>Original Music Composer, Director of Photograp...</td>\n",
       "      <td>/chEsfnDEtRmv1bfOaNAoVEzhCc6.jpg, None, /nMPHU...</td>\n",
       "      <td>37, 5506, 17698, 17698, 26160, 56106, 68755</td>\n",
       "      <td>Steve Martin, Diane Keaton, Martin Short, Kimb...</td>\n",
       "      <td>0, 1, 2, 3, 4, 5, 6, 7, 8, 9, 10, 11</td>\n",
       "      <td>2, 1, 2, 1, 2, 0, 2, 2, 1, 1, 2, 1</td>\n",
       "      <td>52fe44959251416c75039eb9, 52fe44959251416c7503...</td>\n",
       "      <td>/rI2EMvkfKKPKa5z0nM2pFVBtUyO.jpg, /fzgUMnbOkxC...</td>\n",
       "      <td>67773, 3092, 519, 70696, 59222, 18793, 14592, ...</td>\n",
       "      <td>George Banks, Nina Banks, Franck Eggelhoffer, ...</td>\n",
       "    </tr>\n",
       "  </tbody>\n",
       "</table>\n",
       "</div>"
      ],
      "text/plain": [
       "      id                                          name_crew  \\\n",
       "0    862  John Lasseter, Joss Whedon, Andrew Stanton, Jo...   \n",
       "1   8844  Larry J. Franco, Jonathan Hensleigh, James Hor...   \n",
       "2  15602  Howard Deutch, Mark Steven Johnson, Mark Steve...   \n",
       "3  31357  Forest Whitaker, Ronald Bass, Ronald Bass, Ezr...   \n",
       "4  11862  Alan Silvestri, Elliot Davis, Nancy Meyers, Na...   \n",
       "\n",
       "                                     department_crew  \\\n",
       "0  Directing, Writing, Writing, Writing, Writing,...   \n",
       "1  Production, Writing, Sound, Directing, Editing...   \n",
       "2                  Directing, Writing, Writing, Crew   \n",
       "3  Directing, Writing, Production, Production, Pr...   \n",
       "4  Sound, Camera, Writing, Production, Writing, D...   \n",
       "\n",
       "                                         gender_crew  \\\n",
       "0  2, 2, 2, 2, 0, 1, 0, 2, 2, 2, 2, 2, 0, 0, 0, 2...   \n",
       "1     2, 2, 2, 2, 2, 0, 0, 2, 2, 2, 2, 2, 2, 2, 2, 2   \n",
       "2                                         2, 2, 2, 2   \n",
       "3                       2, 0, 0, 2, 1, 0, 0, 0, 2, 0   \n",
       "4                                2, 2, 1, 1, 2, 2, 2   \n",
       "\n",
       "                                            job_crew  \\\n",
       "0  Director, Screenplay, Screenplay, Screenplay, ...   \n",
       "1  Executive Producer, Screenplay, Original Music...   \n",
       "2      Director, Characters, Writer, Sound Recordist   \n",
       "3  Director, Screenplay, Producer, Producer, Prod...   \n",
       "4  Original Music Composer, Director of Photograp...   \n",
       "\n",
       "                                   profile_path_crew  \\\n",
       "0  /7EdqiNbr4FRjIhKHyPPdFfEEEFG.jpg, /dTiVsuaTVTe...   \n",
       "1  None, /l1c4UFD3g0HVWj5f0CxXAvMAGiT.jpg, /oLOtX...   \n",
       "2  /68Vae1HkU1NxQZ6KEmuxIpno7c9.jpg, /6trChNn3o2b...   \n",
       "3  /4pMQkelS5lK661m9Kz3oIxLYiyS.jpg, None, None, ...   \n",
       "4  /chEsfnDEtRmv1bfOaNAoVEzhCc6.jpg, None, /nMPHU...   \n",
       "\n",
       "                                             id_crew  \\\n",
       "0  7879, 12891, 7, 12892, 12893, 12894, 12895, 12...   \n",
       "1  511, 876, 1729, 4945, 4951, 4952, 8023, 9967, ...   \n",
       "2                       26502, 16837, 16837, 1551320   \n",
       "3  2178, 5144, 5144, 21968, 70592, 111118, 111118...   \n",
       "4        37, 5506, 17698, 17698, 26160, 56106, 68755   \n",
       "\n",
       "                                           name_cast  \\\n",
       "0  Tom Hanks, Tim Allen, Don Rickles, Jim Varney,...   \n",
       "1  Robin Williams, Jonathan Hyde, Kirsten Dunst, ...   \n",
       "2  Walter Matthau, Jack Lemmon, Ann-Margret, Soph...   \n",
       "3  Whitney Houston, Angela Bassett, Loretta Devin...   \n",
       "4  Steve Martin, Diane Keaton, Martin Short, Kimb...   \n",
       "\n",
       "                                          order_cast  \\\n",
       "0           0, 1, 2, 3, 4, 5, 6, 7, 8, 9, 10, 11, 12   \n",
       "1  0, 1, 2, 3, 4, 5, 6, 7, 8, 9, 10, 11, 12, 13, ...   \n",
       "2                                0, 1, 2, 3, 4, 5, 6   \n",
       "3                       0, 1, 2, 3, 4, 5, 6, 7, 8, 9   \n",
       "4               0, 1, 2, 3, 4, 5, 6, 7, 8, 9, 10, 11   \n",
       "\n",
       "                                         gender_cast  \\\n",
       "0              2, 2, 2, 2, 2, 2, 1, 0, 2, 1, 2, 1, 2   \n",
       "1  2, 2, 1, 0, 1, 1, 2, 1, 0, 1, 2, 1, 2, 0, 0, 0...   \n",
       "2                                2, 2, 1, 1, 1, 2, 2   \n",
       "3                       1, 1, 1, 1, 2, 2, 2, 2, 2, 2   \n",
       "4                 2, 1, 2, 1, 2, 0, 2, 2, 1, 1, 2, 1   \n",
       "\n",
       "                                      credit_id_cast  \\\n",
       "0  52fe4284c3a36847f8024f95, 52fe4284c3a36847f802...   \n",
       "1  52fe44bfc3a36847f80a7c73, 52fe44bfc3a36847f80a...   \n",
       "2  52fe466a9251416c75077a8d, 52fe466a9251416c7507...   \n",
       "3  52fe44779251416c91011aad, 52fe44779251416c9101...   \n",
       "4  52fe44959251416c75039eb9, 52fe44959251416c7503...   \n",
       "\n",
       "                                   profile_path_cast  \\\n",
       "0  /pQFoyx7rp09CJTAb932F2g8Nlho.jpg, /uX2xVf6pMmP...   \n",
       "1  /sojtJyIV3lkUeThD7A2oHNm8183.jpg, /7il5D76vx6Q...   \n",
       "2  /xJVkvprOnzP5Zdh5y63y8HHniDZ.jpg, /chZmNRYMtqk...   \n",
       "3  /69ouDnXnmklYPr4sMJXWKYz81AL.jpg, /tHkgSzhEuJK...   \n",
       "4  /rI2EMvkfKKPKa5z0nM2pFVBtUyO.jpg, /fzgUMnbOkxC...   \n",
       "\n",
       "                                             id_cast  \\\n",
       "0  31, 12898, 7167, 12899, 12900, 7907, 8873, 111...   \n",
       "1  2157, 8537, 205, 145151, 5149, 10739, 58563, 1...   \n",
       "2         6837, 3151, 13567, 16757, 589, 16523, 7166   \n",
       "3  8851, 9780, 18284, 51359, 66804, 352, 87118, 3...   \n",
       "4  67773, 3092, 519, 70696, 59222, 18793, 14592, ...   \n",
       "\n",
       "                                      character_cast  \n",
       "0  Woody (voice), Buzz Lightyear (voice), Mr. Pot...  \n",
       "1  Alan Parrish, Samuel Alan Parrish / Van Pelt, ...  \n",
       "2  Max Goldman, John Gustafson, Ariel Gustafson, ...  \n",
       "3  Savannah 'Vannah' Jackson, Bernadine 'Bernie' ...  \n",
       "4  George Banks, Nina Banks, Franck Eggelhoffer, ...  "
      ]
     },
     "execution_count": 25,
     "metadata": {},
     "output_type": "execute_result"
    }
   ],
   "source": [
    "newCredits.head()"
   ]
  },
  {
   "cell_type": "code",
   "execution_count": 26,
   "metadata": {},
   "outputs": [
    {
     "data": {
      "text/plain": [
       "(45476, 14)"
      ]
     },
     "execution_count": 26,
     "metadata": {},
     "output_type": "execute_result"
    }
   ],
   "source": [
    "newCredits.shape"
   ]
  },
  {
   "cell_type": "code",
   "execution_count": 27,
   "metadata": {},
   "outputs": [],
   "source": [
    "newCredits.to_csv('data/NewCredits.csv', index=False)"
   ]
  },
  {
   "cell_type": "markdown",
   "metadata": {},
   "source": [
    "### Keywords Dataset Preparation"
   ]
  },
  {
   "cell_type": "code",
   "execution_count": 61,
   "metadata": {},
   "outputs": [
    {
     "data": {
      "text/html": [
       "<div>\n",
       "<style scoped>\n",
       "    .dataframe tbody tr th:only-of-type {\n",
       "        vertical-align: middle;\n",
       "    }\n",
       "\n",
       "    .dataframe tbody tr th {\n",
       "        vertical-align: top;\n",
       "    }\n",
       "\n",
       "    .dataframe thead th {\n",
       "        text-align: right;\n",
       "    }\n",
       "</style>\n",
       "<table border=\"1\" class=\"dataframe\">\n",
       "  <thead>\n",
       "    <tr style=\"text-align: right;\">\n",
       "      <th></th>\n",
       "      <th>id</th>\n",
       "      <th>keywords</th>\n",
       "    </tr>\n",
       "  </thead>\n",
       "  <tbody>\n",
       "    <tr>\n",
       "      <th>0</th>\n",
       "      <td>862</td>\n",
       "      <td>[{'id': 931, 'name': 'jealousy'}, {'id': 4290,...</td>\n",
       "    </tr>\n",
       "    <tr>\n",
       "      <th>1</th>\n",
       "      <td>8844</td>\n",
       "      <td>[{'id': 10090, 'name': 'board game'}, {'id': 1...</td>\n",
       "    </tr>\n",
       "    <tr>\n",
       "      <th>2</th>\n",
       "      <td>15602</td>\n",
       "      <td>[{'id': 1495, 'name': 'fishing'}, {'id': 12392...</td>\n",
       "    </tr>\n",
       "    <tr>\n",
       "      <th>3</th>\n",
       "      <td>31357</td>\n",
       "      <td>[{'id': 818, 'name': 'based on novel'}, {'id':...</td>\n",
       "    </tr>\n",
       "    <tr>\n",
       "      <th>4</th>\n",
       "      <td>11862</td>\n",
       "      <td>[{'id': 1009, 'name': 'baby'}, {'id': 1599, 'n...</td>\n",
       "    </tr>\n",
       "  </tbody>\n",
       "</table>\n",
       "</div>"
      ],
      "text/plain": [
       "      id                                           keywords\n",
       "0    862  [{'id': 931, 'name': 'jealousy'}, {'id': 4290,...\n",
       "1   8844  [{'id': 10090, 'name': 'board game'}, {'id': 1...\n",
       "2  15602  [{'id': 1495, 'name': 'fishing'}, {'id': 12392...\n",
       "3  31357  [{'id': 818, 'name': 'based on novel'}, {'id':...\n",
       "4  11862  [{'id': 1009, 'name': 'baby'}, {'id': 1599, 'n..."
      ]
     },
     "execution_count": 61,
     "metadata": {},
     "output_type": "execute_result"
    }
   ],
   "source": [
    "keywords = pd.read_csv(\"data/keywords.csv\")\n",
    "keywords.head()"
   ]
  },
  {
   "cell_type": "code",
   "execution_count": 62,
   "metadata": {},
   "outputs": [
    {
     "data": {
      "text/plain": [
       "(46419, 2)"
      ]
     },
     "execution_count": 62,
     "metadata": {},
     "output_type": "execute_result"
    }
   ],
   "source": [
    "keywords.shape"
   ]
  },
  {
   "cell_type": "code",
   "execution_count": 63,
   "metadata": {},
   "outputs": [
    {
     "data": {
      "text/html": [
       "<div>\n",
       "<style scoped>\n",
       "    .dataframe tbody tr th:only-of-type {\n",
       "        vertical-align: middle;\n",
       "    }\n",
       "\n",
       "    .dataframe tbody tr th {\n",
       "        vertical-align: top;\n",
       "    }\n",
       "\n",
       "    .dataframe thead th {\n",
       "        text-align: right;\n",
       "    }\n",
       "</style>\n",
       "<table border=\"1\" class=\"dataframe\">\n",
       "  <thead>\n",
       "    <tr style=\"text-align: right;\">\n",
       "      <th></th>\n",
       "      <th>count</th>\n",
       "      <th>mean</th>\n",
       "      <th>std</th>\n",
       "      <th>min</th>\n",
       "      <th>25%</th>\n",
       "      <th>50%</th>\n",
       "      <th>75%</th>\n",
       "      <th>max</th>\n",
       "    </tr>\n",
       "  </thead>\n",
       "  <tbody>\n",
       "    <tr>\n",
       "      <th>id</th>\n",
       "      <td>46419.0</td>\n",
       "      <td>109769.951873</td>\n",
       "      <td>113045.780256</td>\n",
       "      <td>2.0</td>\n",
       "      <td>26810.5</td>\n",
       "      <td>61198.0</td>\n",
       "      <td>159908.5</td>\n",
       "      <td>469172.0</td>\n",
       "    </tr>\n",
       "  </tbody>\n",
       "</table>\n",
       "</div>"
      ],
      "text/plain": [
       "      count           mean            std  min      25%      50%       75%  \\\n",
       "id  46419.0  109769.951873  113045.780256  2.0  26810.5  61198.0  159908.5   \n",
       "\n",
       "         max  \n",
       "id  469172.0  "
      ]
     },
     "execution_count": 63,
     "metadata": {},
     "output_type": "execute_result"
    }
   ],
   "source": [
    "keywords.describe().T"
   ]
  },
  {
   "cell_type": "code",
   "execution_count": 64,
   "metadata": {},
   "outputs": [
    {
     "name": "stdout",
     "output_type": "stream",
     "text": [
      "<class 'pandas.core.frame.DataFrame'>\n",
      "RangeIndex: 46419 entries, 0 to 46418\n",
      "Data columns (total 2 columns):\n",
      " #   Column    Non-Null Count  Dtype \n",
      "---  ------    --------------  ----- \n",
      " 0   id        46419 non-null  int64 \n",
      " 1   keywords  46419 non-null  object\n",
      "dtypes: int64(1), object(1)\n",
      "memory usage: 725.4+ KB\n"
     ]
    }
   ],
   "source": [
    "keywords.info()"
   ]
  },
  {
   "cell_type": "code",
   "execution_count": 65,
   "metadata": {},
   "outputs": [
    {
     "data": {
      "text/plain": [
       "id          0\n",
       "keywords    0\n",
       "dtype: int64"
      ]
     },
     "execution_count": 65,
     "metadata": {},
     "output_type": "execute_result"
    }
   ],
   "source": [
    "keywords.isnull().sum()"
   ]
  },
  {
   "cell_type": "code",
   "execution_count": 66,
   "metadata": {},
   "outputs": [
    {
     "data": {
      "text/plain": [
       "id          0\n",
       "keywords    0\n",
       "dtype: int64"
      ]
     },
     "execution_count": 66,
     "metadata": {},
     "output_type": "execute_result"
    }
   ],
   "source": [
    "keywords.isna().sum()"
   ]
  },
  {
   "cell_type": "code",
   "execution_count": 67,
   "metadata": {},
   "outputs": [
    {
     "data": {
      "text/plain": [
       "Index(['id', 'keywords'], dtype='object')"
      ]
     },
     "execution_count": 67,
     "metadata": {},
     "output_type": "execute_result"
    }
   ],
   "source": [
    "keywords.columns"
   ]
  },
  {
   "cell_type": "code",
   "execution_count": 68,
   "metadata": {},
   "outputs": [
    {
     "data": {
      "text/plain": [
       "id          45432\n",
       "keywords    25989\n",
       "dtype: int64"
      ]
     },
     "execution_count": 68,
     "metadata": {},
     "output_type": "execute_result"
    }
   ],
   "source": [
    "keywords.nunique()"
   ]
  },
  {
   "cell_type": "code",
   "execution_count": 69,
   "metadata": {},
   "outputs": [],
   "source": [
    "keywords.drop_duplicates(inplace=True)"
   ]
  },
  {
   "cell_type": "code",
   "execution_count": 70,
   "metadata": {},
   "outputs": [
    {
     "data": {
      "text/plain": [
       "(45432, 2)"
      ]
     },
     "execution_count": 70,
     "metadata": {},
     "output_type": "execute_result"
    }
   ],
   "source": [
    "keywords.shape"
   ]
  },
  {
   "cell_type": "code",
   "execution_count": 71,
   "metadata": {},
   "outputs": [
    {
     "data": {
      "text/plain": [
       "id          45432\n",
       "keywords    25989\n",
       "dtype: int64"
      ]
     },
     "execution_count": 71,
     "metadata": {},
     "output_type": "execute_result"
    }
   ],
   "source": [
    "keywords.nunique()"
   ]
  },
  {
   "cell_type": "code",
   "execution_count": 72,
   "metadata": {},
   "outputs": [
    {
     "data": {
      "image/png": "[encoded data removed]",
      "text/plain": [
       "<Figure size 640x480 with 1 Axes>"
      ]
     },
     "metadata": {},
     "output_type": "display_data"
    }
   ],
   "source": [
    "keywords.hist(bins=50)\n",
    "plt.show()"
   ]
  },
  {
   "cell_type": "code",
   "execution_count": 73,
   "metadata": {},
   "outputs": [],
   "source": [
    "keywords['name_keywords'] = keywords['keywords'].apply(get_text, obj = \"name\")\n",
    "keywords['id_keywords'] = keywords['keywords'].apply(get_text, obj = \"id\")"
   ]
  },
  {
   "cell_type": "code",
   "execution_count": 74,
   "metadata": {},
   "outputs": [],
   "source": [
    "NewKeywords = keywords.drop([\"keywords\"], axis=1)"
   ]
  },
  {
   "cell_type": "code",
   "execution_count": 75,
   "metadata": {},
   "outputs": [
    {
     "data": {
      "text/html": [
       "<div>\n",
       "<style scoped>\n",
       "    .dataframe tbody tr th:only-of-type {\n",
       "        vertical-align: middle;\n",
       "    }\n",
       "\n",
       "    .dataframe tbody tr th {\n",
       "        vertical-align: top;\n",
       "    }\n",
       "\n",
       "    .dataframe thead th {\n",
       "        text-align: right;\n",
       "    }\n",
       "</style>\n",
       "<table border=\"1\" class=\"dataframe\">\n",
       "  <thead>\n",
       "    <tr style=\"text-align: right;\">\n",
       "      <th></th>\n",
       "      <th>id</th>\n",
       "      <th>name_keywords</th>\n",
       "      <th>id_keywords</th>\n",
       "    </tr>\n",
       "  </thead>\n",
       "  <tbody>\n",
       "    <tr>\n",
       "      <th>0</th>\n",
       "      <td>862</td>\n",
       "      <td>jealousy, toy, boy, friendship, friends, rival...</td>\n",
       "      <td>931, 4290, 5202, 6054, 9713, 9823, 165503, 170...</td>\n",
       "    </tr>\n",
       "    <tr>\n",
       "      <th>1</th>\n",
       "      <td>8844</td>\n",
       "      <td>board game, disappearance, based on children's...</td>\n",
       "      <td>10090, 10941, 15101, 33467, 158086, 158091</td>\n",
       "    </tr>\n",
       "    <tr>\n",
       "      <th>2</th>\n",
       "      <td>15602</td>\n",
       "      <td>fishing, best friend, duringcreditsstinger, ol...</td>\n",
       "      <td>1495, 12392, 179431, 208510</td>\n",
       "    </tr>\n",
       "    <tr>\n",
       "      <th>3</th>\n",
       "      <td>31357</td>\n",
       "      <td>based on novel, interracial relationship, sing...</td>\n",
       "      <td>818, 10131, 14768, 15160, 33455</td>\n",
       "    </tr>\n",
       "    <tr>\n",
       "      <th>4</th>\n",
       "      <td>11862</td>\n",
       "      <td>baby, midlife crisis, confidence, aging, daugh...</td>\n",
       "      <td>1009, 1599, 2246, 4995, 5600, 10707, 13149, 33...</td>\n",
       "    </tr>\n",
       "  </tbody>\n",
       "</table>\n",
       "</div>"
      ],
      "text/plain": [
       "      id                                      name_keywords  \\\n",
       "0    862  jealousy, toy, boy, friendship, friends, rival...   \n",
       "1   8844  board game, disappearance, based on children's...   \n",
       "2  15602  fishing, best friend, duringcreditsstinger, ol...   \n",
       "3  31357  based on novel, interracial relationship, sing...   \n",
       "4  11862  baby, midlife crisis, confidence, aging, daugh...   \n",
       "\n",
       "                                         id_keywords  \n",
       "0  931, 4290, 5202, 6054, 9713, 9823, 165503, 170...  \n",
       "1         10090, 10941, 15101, 33467, 158086, 158091  \n",
       "2                        1495, 12392, 179431, 208510  \n",
       "3                    818, 10131, 14768, 15160, 33455  \n",
       "4  1009, 1599, 2246, 4995, 5600, 10707, 13149, 33...  "
      ]
     },
     "execution_count": 75,
     "metadata": {},
     "output_type": "execute_result"
    }
   ],
   "source": [
    "NewKeywords.head()"
   ]
  },
  {
   "cell_type": "code",
   "execution_count": 76,
   "metadata": {},
   "outputs": [],
   "source": [
    "NewKeywords.to_csv('data/NewKeywords.csv', index=False)"
   ]
  },
  {
   "cell_type": "markdown",
   "metadata": {},
   "source": [
    "## Movies Dataset Preparation"
   ]
  },
  {
   "cell_type": "code",
   "execution_count": 112,
   "metadata": {},
   "outputs": [
    {
     "data": {
      "text/html": [
       "<div>\n",
       "<style scoped>\n",
       "    .dataframe tbody tr th:only-of-type {\n",
       "        vertical-align: middle;\n",
       "    }\n",
       "\n",
       "    .dataframe tbody tr th {\n",
       "        vertical-align: top;\n",
       "    }\n",
       "\n",
       "    .dataframe thead th {\n",
       "        text-align: right;\n",
       "    }\n",
       "</style>\n",
       "<table border=\"1\" class=\"dataframe\">\n",
       "  <thead>\n",
       "    <tr style=\"text-align: right;\">\n",
       "      <th></th>\n",
       "      <th>adult</th>\n",
       "      <th>belongs_to_collection</th>\n",
       "      <th>budget</th>\n",
       "      <th>genres</th>\n",
       "      <th>homepage</th>\n",
       "      <th>id</th>\n",
       "      <th>imdb_id</th>\n",
       "      <th>original_language</th>\n",
       "      <th>original_title</th>\n",
       "      <th>overview</th>\n",
       "      <th>...</th>\n",
       "      <th>release_date</th>\n",
       "      <th>revenue</th>\n",
       "      <th>runtime</th>\n",
       "      <th>spoken_languages</th>\n",
       "      <th>status</th>\n",
       "      <th>tagline</th>\n",
       "      <th>title</th>\n",
       "      <th>video</th>\n",
       "      <th>vote_average</th>\n",
       "      <th>vote_count</th>\n",
       "    </tr>\n",
       "  </thead>\n",
       "  <tbody>\n",
       "    <tr>\n",
       "      <th>0</th>\n",
       "      <td>False</td>\n",
       "      <td>{'id': 10194, 'name': 'Toy Story Collection', ...</td>\n",
       "      <td>30000000</td>\n",
       "      <td>[{'id': 16, 'name': 'Animation'}, {'id': 35, '...</td>\n",
       "      <td>http://toystory.disney.com/toy-story</td>\n",
       "      <td>862</td>\n",
       "      <td>tt0114709</td>\n",
       "      <td>en</td>\n",
       "      <td>Toy Story</td>\n",
       "      <td>Led by Woody, Andy's toys live happily in his ...</td>\n",
       "      <td>...</td>\n",
       "      <td>1995-10-30</td>\n",
       "      <td>373554033.0</td>\n",
       "      <td>81.0</td>\n",
       "      <td>[{'iso_639_1': 'en', 'name': 'English'}]</td>\n",
       "      <td>Released</td>\n",
       "      <td>NaN</td>\n",
       "      <td>Toy Story</td>\n",
       "      <td>False</td>\n",
       "      <td>7.7</td>\n",
       "      <td>5415.0</td>\n",
       "    </tr>\n",
       "    <tr>\n",
       "      <th>1</th>\n",
       "      <td>False</td>\n",
       "      <td>NaN</td>\n",
       "      <td>65000000</td>\n",
       "      <td>[{'id': 12, 'name': 'Adventure'}, {'id': 14, '...</td>\n",
       "      <td>NaN</td>\n",
       "      <td>8844</td>\n",
       "      <td>tt0113497</td>\n",
       "      <td>en</td>\n",
       "      <td>Jumanji</td>\n",
       "      <td>When siblings Judy and Peter discover an encha...</td>\n",
       "      <td>...</td>\n",
       "      <td>1995-12-15</td>\n",
       "      <td>262797249.0</td>\n",
       "      <td>104.0</td>\n",
       "      <td>[{'iso_639_1': 'en', 'name': 'English'}, {'iso...</td>\n",
       "      <td>Released</td>\n",
       "      <td>Roll the dice and unleash the excitement!</td>\n",
       "      <td>Jumanji</td>\n",
       "      <td>False</td>\n",
       "      <td>6.9</td>\n",
       "      <td>2413.0</td>\n",
       "    </tr>\n",
       "    <tr>\n",
       "      <th>2</th>\n",
       "      <td>False</td>\n",
       "      <td>{'id': 119050, 'name': 'Grumpy Old Men Collect...</td>\n",
       "      <td>0</td>\n",
       "      <td>[{'id': 10749, 'name': 'Romance'}, {'id': 35, ...</td>\n",
       "      <td>NaN</td>\n",
       "      <td>15602</td>\n",
       "      <td>tt0113228</td>\n",
       "      <td>en</td>\n",
       "      <td>Grumpier Old Men</td>\n",
       "      <td>A family wedding reignites the ancient feud be...</td>\n",
       "      <td>...</td>\n",
       "      <td>1995-12-22</td>\n",
       "      <td>0.0</td>\n",
       "      <td>101.0</td>\n",
       "      <td>[{'iso_639_1': 'en', 'name': 'English'}]</td>\n",
       "      <td>Released</td>\n",
       "      <td>Still Yelling. Still Fighting. Still Ready for...</td>\n",
       "      <td>Grumpier Old Men</td>\n",
       "      <td>False</td>\n",
       "      <td>6.5</td>\n",
       "      <td>92.0</td>\n",
       "    </tr>\n",
       "    <tr>\n",
       "      <th>3</th>\n",
       "      <td>False</td>\n",
       "      <td>NaN</td>\n",
       "      <td>16000000</td>\n",
       "      <td>[{'id': 35, 'name': 'Comedy'}, {'id': 18, 'nam...</td>\n",
       "      <td>NaN</td>\n",
       "      <td>31357</td>\n",
       "      <td>tt0114885</td>\n",
       "      <td>en</td>\n",
       "      <td>Waiting to Exhale</td>\n",
       "      <td>Cheated on, mistreated and stepped on, the wom...</td>\n",
       "      <td>...</td>\n",
       "      <td>1995-12-22</td>\n",
       "      <td>81452156.0</td>\n",
       "      <td>127.0</td>\n",
       "      <td>[{'iso_639_1': 'en', 'name': 'English'}]</td>\n",
       "      <td>Released</td>\n",
       "      <td>Friends are the people who let you be yourself...</td>\n",
       "      <td>Waiting to Exhale</td>\n",
       "      <td>False</td>\n",
       "      <td>6.1</td>\n",
       "      <td>34.0</td>\n",
       "    </tr>\n",
       "    <tr>\n",
       "      <th>4</th>\n",
       "      <td>False</td>\n",
       "      <td>{'id': 96871, 'name': 'Father of the Bride Col...</td>\n",
       "      <td>0</td>\n",
       "      <td>[{'id': 35, 'name': 'Comedy'}]</td>\n",
       "      <td>NaN</td>\n",
       "      <td>11862</td>\n",
       "      <td>tt0113041</td>\n",
       "      <td>en</td>\n",
       "      <td>Father of the Bride Part II</td>\n",
       "      <td>Just when George Banks has recovered from his ...</td>\n",
       "      <td>...</td>\n",
       "      <td>1995-02-10</td>\n",
       "      <td>76578911.0</td>\n",
       "      <td>106.0</td>\n",
       "      <td>[{'iso_639_1': 'en', 'name': 'English'}]</td>\n",
       "      <td>Released</td>\n",
       "      <td>Just When His World Is Back To Normal... He's ...</td>\n",
       "      <td>Father of the Bride Part II</td>\n",
       "      <td>False</td>\n",
       "      <td>5.7</td>\n",
       "      <td>173.0</td>\n",
       "    </tr>\n",
       "  </tbody>\n",
       "</table>\n",
       "<p>5 rows × 24 columns</p>\n",
       "</div>"
      ],
      "text/plain": [
       "   adult                              belongs_to_collection    budget  \\\n",
       "0  False  {'id': 10194, 'name': 'Toy Story Collection', ...  30000000   \n",
       "1  False                                                NaN  65000000   \n",
       "2  False  {'id': 119050, 'name': 'Grumpy Old Men Collect...         0   \n",
       "3  False                                                NaN  16000000   \n",
       "4  False  {'id': 96871, 'name': 'Father of the Bride Col...         0   \n",
       "\n",
       "                                              genres  \\\n",
       "0  [{'id': 16, 'name': 'Animation'}, {'id': 35, '...   \n",
       "1  [{'id': 12, 'name': 'Adventure'}, {'id': 14, '...   \n",
       "2  [{'id': 10749, 'name': 'Romance'}, {'id': 35, ...   \n",
       "3  [{'id': 35, 'name': 'Comedy'}, {'id': 18, 'nam...   \n",
       "4                     [{'id': 35, 'name': 'Comedy'}]   \n",
       "\n",
       "                               homepage     id    imdb_id original_language  \\\n",
       "0  http://toystory.disney.com/toy-story    862  tt0114709                en   \n",
       "1                                   NaN   8844  tt0113497                en   \n",
       "2                                   NaN  15602  tt0113228                en   \n",
       "3                                   NaN  31357  tt0114885                en   \n",
       "4                                   NaN  11862  tt0113041                en   \n",
       "\n",
       "                original_title  \\\n",
       "0                    Toy Story   \n",
       "1                      Jumanji   \n",
       "2             Grumpier Old Men   \n",
       "3            Waiting to Exhale   \n",
       "4  Father of the Bride Part II   \n",
       "\n",
       "                                            overview  ... release_date  \\\n",
       "0  Led by Woody, Andy's toys live happily in his ...  ...   1995-10-30   \n",
       "1  When siblings Judy and Peter discover an encha...  ...   1995-12-15   \n",
       "2  A family wedding reignites the ancient feud be...  ...   1995-12-22   \n",
       "3  Cheated on, mistreated and stepped on, the wom...  ...   1995-12-22   \n",
       "4  Just when George Banks has recovered from his ...  ...   1995-02-10   \n",
       "\n",
       "       revenue runtime                                   spoken_languages  \\\n",
       "0  373554033.0    81.0           [{'iso_639_1': 'en', 'name': 'English'}]   \n",
       "1  262797249.0   104.0  [{'iso_639_1': 'en', 'name': 'English'}, {'iso...   \n",
       "2          0.0   101.0           [{'iso_639_1': 'en', 'name': 'English'}]   \n",
       "3   81452156.0   127.0           [{'iso_639_1': 'en', 'name': 'English'}]   \n",
       "4   76578911.0   106.0           [{'iso_639_1': 'en', 'name': 'English'}]   \n",
       "\n",
       "     status                                            tagline  \\\n",
       "0  Released                                                NaN   \n",
       "1  Released          Roll the dice and unleash the excitement!   \n",
       "2  Released  Still Yelling. Still Fighting. Still Ready for...   \n",
       "3  Released  Friends are the people who let you be yourself...   \n",
       "4  Released  Just When His World Is Back To Normal... He's ...   \n",
       "\n",
       "                         title  video vote_average vote_count  \n",
       "0                    Toy Story  False          7.7     5415.0  \n",
       "1                      Jumanji  False          6.9     2413.0  \n",
       "2             Grumpier Old Men  False          6.5       92.0  \n",
       "3            Waiting to Exhale  False          6.1       34.0  \n",
       "4  Father of the Bride Part II  False          5.7      173.0  \n",
       "\n",
       "[5 rows x 24 columns]"
      ]
     },
     "execution_count": 112,
     "metadata": {},
     "output_type": "execute_result"
    }
   ],
   "source": [
    "movies = pd.read_csv(\"data/movies_metadata.csv\", low_memory=False)\n",
    "movies.head()"
   ]
  },
  {
   "cell_type": "code",
   "execution_count": 113,
   "metadata": {},
   "outputs": [
    {
     "data": {
      "text/plain": [
       "(45466, 24)"
      ]
     },
     "execution_count": 113,
     "metadata": {},
     "output_type": "execute_result"
    }
   ],
   "source": [
    "movies.shape"
   ]
  },
  {
   "cell_type": "code",
   "execution_count": 114,
   "metadata": {},
   "outputs": [
    {
     "data": {
      "text/html": [
       "<div>\n",
       "<style scoped>\n",
       "    .dataframe tbody tr th:only-of-type {\n",
       "        vertical-align: middle;\n",
       "    }\n",
       "\n",
       "    .dataframe tbody tr th {\n",
       "        vertical-align: top;\n",
       "    }\n",
       "\n",
       "    .dataframe thead th {\n",
       "        text-align: right;\n",
       "    }\n",
       "</style>\n",
       "<table border=\"1\" class=\"dataframe\">\n",
       "  <thead>\n",
       "    <tr style=\"text-align: right;\">\n",
       "      <th></th>\n",
       "      <th>count</th>\n",
       "      <th>mean</th>\n",
       "      <th>std</th>\n",
       "      <th>min</th>\n",
       "      <th>25%</th>\n",
       "      <th>50%</th>\n",
       "      <th>75%</th>\n",
       "      <th>max</th>\n",
       "    </tr>\n",
       "  </thead>\n",
       "  <tbody>\n",
       "    <tr>\n",
       "      <th>revenue</th>\n",
       "      <td>45460.0</td>\n",
       "      <td>1.120935e+07</td>\n",
       "      <td>6.433225e+07</td>\n",
       "      <td>0.0</td>\n",
       "      <td>0.0</td>\n",
       "      <td>0.0</td>\n",
       "      <td>0.0</td>\n",
       "      <td>2.787965e+09</td>\n",
       "    </tr>\n",
       "    <tr>\n",
       "      <th>runtime</th>\n",
       "      <td>45203.0</td>\n",
       "      <td>9.412820e+01</td>\n",
       "      <td>3.840781e+01</td>\n",
       "      <td>0.0</td>\n",
       "      <td>85.0</td>\n",
       "      <td>95.0</td>\n",
       "      <td>107.0</td>\n",
       "      <td>1.256000e+03</td>\n",
       "    </tr>\n",
       "    <tr>\n",
       "      <th>vote_average</th>\n",
       "      <td>45460.0</td>\n",
       "      <td>5.618207e+00</td>\n",
       "      <td>1.924216e+00</td>\n",
       "      <td>0.0</td>\n",
       "      <td>5.0</td>\n",
       "      <td>6.0</td>\n",
       "      <td>6.8</td>\n",
       "      <td>1.000000e+01</td>\n",
       "    </tr>\n",
       "    <tr>\n",
       "      <th>vote_count</th>\n",
       "      <td>45460.0</td>\n",
       "      <td>1.098973e+02</td>\n",
       "      <td>4.913104e+02</td>\n",
       "      <td>0.0</td>\n",
       "      <td>3.0</td>\n",
       "      <td>10.0</td>\n",
       "      <td>34.0</td>\n",
       "      <td>1.407500e+04</td>\n",
       "    </tr>\n",
       "  </tbody>\n",
       "</table>\n",
       "</div>"
      ],
      "text/plain": [
       "                count          mean           std  min   25%   50%    75%  \\\n",
       "revenue       45460.0  1.120935e+07  6.433225e+07  0.0   0.0   0.0    0.0   \n",
       "runtime       45203.0  9.412820e+01  3.840781e+01  0.0  85.0  95.0  107.0   \n",
       "vote_average  45460.0  5.618207e+00  1.924216e+00  0.0   5.0   6.0    6.8   \n",
       "vote_count    45460.0  1.098973e+02  4.913104e+02  0.0   3.0  10.0   34.0   \n",
       "\n",
       "                       max  \n",
       "revenue       2.787965e+09  \n",
       "runtime       1.256000e+03  \n",
       "vote_average  1.000000e+01  \n",
       "vote_count    1.407500e+04  "
      ]
     },
     "execution_count": 114,
     "metadata": {},
     "output_type": "execute_result"
    }
   ],
   "source": [
    "movies.describe().T"
   ]
  },
  {
   "cell_type": "code",
   "execution_count": 115,
   "metadata": {},
   "outputs": [
    {
     "name": "stdout",
     "output_type": "stream",
     "text": [
      "<class 'pandas.core.frame.DataFrame'>\n",
      "RangeIndex: 45466 entries, 0 to 45465\n",
      "Data columns (total 24 columns):\n",
      " #   Column                 Non-Null Count  Dtype  \n",
      "---  ------                 --------------  -----  \n",
      " 0   adult                  45466 non-null  object \n",
      " 1   belongs_to_collection  4494 non-null   object \n",
      " 2   budget                 45466 non-null  object \n",
      " 3   genres                 45466 non-null  object \n",
      " 4   homepage               7782 non-null   object \n",
      " 5   id                     45466 non-null  object \n",
      " 6   imdb_id                45449 non-null  object \n",
      " 7   original_language      45455 non-null  object \n",
      " 8   original_title         45466 non-null  object \n",
      " 9   overview               44512 non-null  object \n",
      " 10  popularity             45461 non-null  object \n",
      " 11  poster_path            45080 non-null  object \n",
      " 12  production_companies   45463 non-null  object \n",
      " 13  production_countries   45463 non-null  object \n",
      " 14  release_date           45379 non-null  object \n",
      " 15  revenue                45460 non-null  float64\n",
      " 16  runtime                45203 non-null  float64\n",
      " 17  spoken_languages       45460 non-null  object \n",
      " 18  status                 45379 non-null  object \n",
      " 19  tagline                20412 non-null  object \n",
      " 20  title                  45460 non-null  object \n",
      " 21  video                  45460 non-null  object \n",
      " 22  vote_average           45460 non-null  float64\n",
      " 23  vote_count             45460 non-null  float64\n",
      "dtypes: float64(4), object(20)\n",
      "memory usage: 8.3+ MB\n"
     ]
    }
   ],
   "source": [
    "movies.info()"
   ]
  },
  {
   "cell_type": "code",
   "execution_count": 116,
   "metadata": {},
   "outputs": [
    {
     "data": {
      "text/plain": [
       "adult                        0\n",
       "belongs_to_collection    40972\n",
       "budget                       0\n",
       "genres                       0\n",
       "homepage                 37684\n",
       "id                           0\n",
       "imdb_id                     17\n",
       "original_language           11\n",
       "original_title               0\n",
       "overview                   954\n",
       "popularity                   5\n",
       "poster_path                386\n",
       "production_companies         3\n",
       "production_countries         3\n",
       "release_date                87\n",
       "revenue                      6\n",
       "runtime                    263\n",
       "spoken_languages             6\n",
       "status                      87\n",
       "tagline                  25054\n",
       "title                        6\n",
       "video                        6\n",
       "vote_average                 6\n",
       "vote_count                   6\n",
       "dtype: int64"
      ]
     },
     "execution_count": 116,
     "metadata": {},
     "output_type": "execute_result"
    }
   ],
   "source": [
    "movies.isnull().sum()"
   ]
  },
  {
   "cell_type": "code",
   "execution_count": 117,
   "metadata": {},
   "outputs": [
    {
     "data": {
      "text/plain": [
       "adult                        0\n",
       "belongs_to_collection    40972\n",
       "budget                       0\n",
       "genres                       0\n",
       "homepage                 37684\n",
       "id                           0\n",
       "imdb_id                     17\n",
       "original_language           11\n",
       "original_title               0\n",
       "overview                   954\n",
       "popularity                   5\n",
       "poster_path                386\n",
       "production_companies         3\n",
       "production_countries         3\n",
       "release_date                87\n",
       "revenue                      6\n",
       "runtime                    263\n",
       "spoken_languages             6\n",
       "status                      87\n",
       "tagline                  25054\n",
       "title                        6\n",
       "video                        6\n",
       "vote_average                 6\n",
       "vote_count                   6\n",
       "dtype: int64"
      ]
     },
     "execution_count": 117,
     "metadata": {},
     "output_type": "execute_result"
    }
   ],
   "source": [
    "movies.isna().sum()"
   ]
  },
  {
   "cell_type": "code",
   "execution_count": 118,
   "metadata": {},
   "outputs": [
    {
     "data": {
      "text/plain": [
       "adult                        5\n",
       "belongs_to_collection     1698\n",
       "budget                    1226\n",
       "genres                    4069\n",
       "homepage                  7673\n",
       "id                       45436\n",
       "imdb_id                  45417\n",
       "original_language           92\n",
       "original_title           43373\n",
       "overview                 44307\n",
       "popularity               43758\n",
       "poster_path              45024\n",
       "production_companies     22708\n",
       "production_countries      2393\n",
       "release_date             17336\n",
       "revenue                   6863\n",
       "runtime                    353\n",
       "spoken_languages          1931\n",
       "status                       6\n",
       "tagline                  20283\n",
       "title                    42277\n",
       "video                        2\n",
       "vote_average                92\n",
       "vote_count                1820\n",
       "dtype: int64"
      ]
     },
     "execution_count": 118,
     "metadata": {},
     "output_type": "execute_result"
    }
   ],
   "source": [
    "movies.nunique()"
   ]
  },
  {
   "cell_type": "code",
   "execution_count": 119,
   "metadata": {},
   "outputs": [
    {
     "data": {
      "image/png": "[encoded data removed]",
      "text/plain": [
       "<Figure size 1000x700 with 4 Axes>"
      ]
     },
     "metadata": {},
     "output_type": "display_data"
    }
   ],
   "source": [
    "movies.hist(bins=50, figsize=(10, 7))\n",
    "plt.show()"
   ]
  },
  {
   "cell_type": "code",
   "execution_count": 120,
   "metadata": {},
   "outputs": [],
   "source": [
    "def is_float(string):\n",
    "    try:\n",
    "        float(string)\n",
    "        return True\n",
    "    except ValueError:\n",
    "        return False"
   ]
  },
  {
   "cell_type": "code",
   "execution_count": 121,
   "metadata": {},
   "outputs": [
    {
     "data": {
      "text/plain": [
       "(45460, 24)"
      ]
     },
     "execution_count": 121,
     "metadata": {},
     "output_type": "execute_result"
    }
   ],
   "source": [
    "for i in range(movies.shape[0]):\n",
    "    if is_float(movies.loc[i, 'production_countries']) or is_float(movies.loc[i, 'production_companies']):\n",
    "        movies.drop(index=i, inplace=True)\n",
    "movies.shape"
   ]
  },
  {
   "cell_type": "code",
   "execution_count": 123,
   "metadata": {},
   "outputs": [
    {
     "data": {
      "text/plain": [
       "(45460, 24)"
      ]
     },
     "execution_count": 123,
     "metadata": {},
     "output_type": "execute_result"
    }
   ],
   "source": [
    "movies.dropna(subset=['production_companies', 'production_countries'], inplace=True)\n",
    "movies.shape"
   ]
  },
  {
   "cell_type": "code",
   "execution_count": 124,
   "metadata": {},
   "outputs": [
    {
     "data": {
      "text/plain": [
       "(45443, 24)"
      ]
     },
     "execution_count": 124,
     "metadata": {},
     "output_type": "execute_result"
    }
   ],
   "source": [
    "movies.drop_duplicates(inplace=True)\n",
    "movies.shape"
   ]
  },
  {
   "cell_type": "code",
   "execution_count": 126,
   "metadata": {},
   "outputs": [
    {
     "data": {
      "text/plain": [
       "Index(['adult', 'belongs_to_collection', 'budget', 'genres', 'homepage', 'id',\n",
       "       'imdb_id', 'original_language', 'original_title', 'overview',\n",
       "       'popularity', 'poster_path', 'production_companies',\n",
       "       'production_countries', 'release_date', 'revenue', 'runtime',\n",
       "       'spoken_languages', 'status', 'tagline', 'title', 'video',\n",
       "       'vote_average', 'vote_count'],\n",
       "      dtype='object')"
      ]
     },
     "execution_count": 126,
     "metadata": {},
     "output_type": "execute_result"
    }
   ],
   "source": [
    "movies.columns"
   ]
  },
  {
   "cell_type": "code",
   "execution_count": 127,
   "metadata": {},
   "outputs": [],
   "source": [
    "def json_to_arr(cell, wanted=\"name\"):\n",
    "    cell = literal_eval(cell)\n",
    "    if cell == [] or (isinstance(cell, float) and cell.isna()):\n",
    "        return np.nan\n",
    "    result = []\n",
    "    counter = 0\n",
    "    for element in cell:\n",
    "        if counter < 3:\n",
    "            result.append(element[wanted])\n",
    "            counter += 1\n",
    "        else:\n",
    "            break\n",
    "    return result[:3]"
   ]
  },
  {
   "cell_type": "code",
   "execution_count": 128,
   "metadata": {},
   "outputs": [],
   "source": [
    "movies = movies.fillna(\"NANE\")"
   ]
  },
  {
   "cell_type": "code",
   "execution_count": 130,
   "metadata": {},
   "outputs": [],
   "source": [
    "def get_new_text(text, obj='name'):\n",
    "    if(text == 'NANE'):  \n",
    "         return np.nan\n",
    "    elif (isinstance(literal_eval(str(text)), float)):\n",
    "        return np.nan\n",
    "    else:\n",
    "        text = literal_eval(str(text))\n",
    "        for i in text:\n",
    "            if(i == obj):     \n",
    "                return (text[i])"
   ]
  },
  {
   "cell_type": "code",
   "execution_count": 131,
   "metadata": {},
   "outputs": [],
   "source": [
    "def textGeter(text, obj='name'):\n",
    "    if(text == 'NANE'):  \n",
    "         return np.nan\n",
    "    elif (isinstance(literal_eval(str(text)), float)):\n",
    "        return np.nan\n",
    "    elif(isinstance(literal_eval(str(text)), list)):\n",
    "        s = []\n",
    "        for i in text: \n",
    "            s.append(str(i[obj]))\n",
    "        return ', '.join(s)\n",
    "    else:\n",
    "        text = literal_eval(str(text))\n",
    "        for i in text:\n",
    "            if(i == obj):     \n",
    "                return (text[i])"
   ]
  },
  {
   "cell_type": "code",
   "execution_count": 133,
   "metadata": {},
   "outputs": [],
   "source": [
    "movies['name_belongs_to_collection'] = movies['belongs_to_collection'].apply(get_new_text ,obj = \"name\")\n",
    "movies['id_belongs_to_collection'] = movies['belongs_to_collection'].apply(get_new_text ,obj = \"id\")\n",
    "movies['poster_path_belongs_to_collection'] = movies['belongs_to_collection'].apply(get_new_text ,obj = \"poster_path\")\n",
    "movies['backdrop_path_belongs_to_collection'] = movies['belongs_to_collection'].apply(get_new_text ,obj = \"backdrop_path\")"
   ]
  },
  {
   "cell_type": "code",
   "execution_count": 134,
   "metadata": {},
   "outputs": [],
   "source": [
    "movies['name_genres'] = movies['genres'].apply(get_text ,obj = \"name\")\n",
    "movies['id_genres'] = movies['genres'].apply(get_text ,obj = \"id\")"
   ]
  },
  {
   "cell_type": "code",
   "execution_count": 135,
   "metadata": {},
   "outputs": [],
   "source": [
    "movies['name_production_countries'] = movies['production_countries'].apply(get_new_text ,obj = \"name\")\n",
    "movies['iso_3166_1_production_companies'] = movies['production_countries'].apply(get_text ,obj = \"iso_3166_1\")"
   ]
  },
  {
   "cell_type": "code",
   "execution_count": 136,
   "metadata": {},
   "outputs": [],
   "source": [
    "movies['name_production_companies'] = movies['production_companies'].apply(get_text ,obj = \"name\")\n",
    "movies['id_production_companies'] = movies['production_companies'].apply(get_text ,obj = \"id\")"
   ]
  },
  {
   "cell_type": "code",
   "execution_count": 137,
   "metadata": {},
   "outputs": [
    {
     "data": {
      "text/html": [
       "<div>\n",
       "<style scoped>\n",
       "    .dataframe tbody tr th:only-of-type {\n",
       "        vertical-align: middle;\n",
       "    }\n",
       "\n",
       "    .dataframe tbody tr th {\n",
       "        vertical-align: top;\n",
       "    }\n",
       "\n",
       "    .dataframe thead th {\n",
       "        text-align: right;\n",
       "    }\n",
       "</style>\n",
       "<table border=\"1\" class=\"dataframe\">\n",
       "  <thead>\n",
       "    <tr style=\"text-align: right;\">\n",
       "      <th></th>\n",
       "      <th>adult</th>\n",
       "      <th>belongs_to_collection</th>\n",
       "      <th>budget</th>\n",
       "      <th>genres</th>\n",
       "      <th>homepage</th>\n",
       "      <th>id</th>\n",
       "      <th>imdb_id</th>\n",
       "      <th>original_language</th>\n",
       "      <th>original_title</th>\n",
       "      <th>overview</th>\n",
       "      <th>...</th>\n",
       "      <th>name_belongs_to_collection</th>\n",
       "      <th>id_belongs_to_collection</th>\n",
       "      <th>poster_path_belongs_to_collection</th>\n",
       "      <th>backdrop_path_belongs_to_collection</th>\n",
       "      <th>name_genres</th>\n",
       "      <th>id_genres</th>\n",
       "      <th>name_production_countries</th>\n",
       "      <th>iso_3166_1_production_companies</th>\n",
       "      <th>name_production_companies</th>\n",
       "      <th>id_production_companies</th>\n",
       "    </tr>\n",
       "  </thead>\n",
       "  <tbody>\n",
       "    <tr>\n",
       "      <th>0</th>\n",
       "      <td>False</td>\n",
       "      <td>{'id': 10194, 'name': 'Toy Story Collection', ...</td>\n",
       "      <td>30000000</td>\n",
       "      <td>[{'id': 16, 'name': 'Animation'}, {'id': 35, '...</td>\n",
       "      <td>http://toystory.disney.com/toy-story</td>\n",
       "      <td>862</td>\n",
       "      <td>tt0114709</td>\n",
       "      <td>en</td>\n",
       "      <td>Toy Story</td>\n",
       "      <td>Led by Woody, Andy's toys live happily in his ...</td>\n",
       "      <td>...</td>\n",
       "      <td>Toy Story Collection</td>\n",
       "      <td>10194.0</td>\n",
       "      <td>/7G9915LfUQ2lVfwMEEhDsn3kT4B.jpg</td>\n",
       "      <td>/9FBwqcd9IRruEDUrTdcaafOMKUq.jpg</td>\n",
       "      <td>Animation, Comedy, Family</td>\n",
       "      <td>16, 35, 10751</td>\n",
       "      <td>None</td>\n",
       "      <td>US</td>\n",
       "      <td>Pixar Animation Studios</td>\n",
       "      <td>3</td>\n",
       "    </tr>\n",
       "    <tr>\n",
       "      <th>1</th>\n",
       "      <td>False</td>\n",
       "      <td>NANE</td>\n",
       "      <td>65000000</td>\n",
       "      <td>[{'id': 12, 'name': 'Adventure'}, {'id': 14, '...</td>\n",
       "      <td>NANE</td>\n",
       "      <td>8844</td>\n",
       "      <td>tt0113497</td>\n",
       "      <td>en</td>\n",
       "      <td>Jumanji</td>\n",
       "      <td>When siblings Judy and Peter discover an encha...</td>\n",
       "      <td>...</td>\n",
       "      <td>NaN</td>\n",
       "      <td>NaN</td>\n",
       "      <td>NaN</td>\n",
       "      <td>NaN</td>\n",
       "      <td>Adventure, Fantasy, Family</td>\n",
       "      <td>12, 14, 10751</td>\n",
       "      <td>None</td>\n",
       "      <td>US</td>\n",
       "      <td>TriStar Pictures, Teitler Film, Interscope Com...</td>\n",
       "      <td>559, 2550, 10201</td>\n",
       "    </tr>\n",
       "    <tr>\n",
       "      <th>2</th>\n",
       "      <td>False</td>\n",
       "      <td>{'id': 119050, 'name': 'Grumpy Old Men Collect...</td>\n",
       "      <td>0</td>\n",
       "      <td>[{'id': 10749, 'name': 'Romance'}, {'id': 35, ...</td>\n",
       "      <td>NANE</td>\n",
       "      <td>15602</td>\n",
       "      <td>tt0113228</td>\n",
       "      <td>en</td>\n",
       "      <td>Grumpier Old Men</td>\n",
       "      <td>A family wedding reignites the ancient feud be...</td>\n",
       "      <td>...</td>\n",
       "      <td>Grumpy Old Men Collection</td>\n",
       "      <td>119050.0</td>\n",
       "      <td>/nLvUdqgPgm3F85NMCii9gVFUcet.jpg</td>\n",
       "      <td>/hypTnLot2z8wpFS7qwsQHW1uV8u.jpg</td>\n",
       "      <td>Romance, Comedy</td>\n",
       "      <td>10749, 35</td>\n",
       "      <td>None</td>\n",
       "      <td>US</td>\n",
       "      <td>Warner Bros., Lancaster Gate</td>\n",
       "      <td>6194, 19464</td>\n",
       "    </tr>\n",
       "    <tr>\n",
       "      <th>3</th>\n",
       "      <td>False</td>\n",
       "      <td>NANE</td>\n",
       "      <td>16000000</td>\n",
       "      <td>[{'id': 35, 'name': 'Comedy'}, {'id': 18, 'nam...</td>\n",
       "      <td>NANE</td>\n",
       "      <td>31357</td>\n",
       "      <td>tt0114885</td>\n",
       "      <td>en</td>\n",
       "      <td>Waiting to Exhale</td>\n",
       "      <td>Cheated on, mistreated and stepped on, the wom...</td>\n",
       "      <td>...</td>\n",
       "      <td>NaN</td>\n",
       "      <td>NaN</td>\n",
       "      <td>NaN</td>\n",
       "      <td>NaN</td>\n",
       "      <td>Comedy, Drama, Romance</td>\n",
       "      <td>35, 18, 10749</td>\n",
       "      <td>None</td>\n",
       "      <td>US</td>\n",
       "      <td>Twentieth Century Fox Film Corporation</td>\n",
       "      <td>306</td>\n",
       "    </tr>\n",
       "    <tr>\n",
       "      <th>4</th>\n",
       "      <td>False</td>\n",
       "      <td>{'id': 96871, 'name': 'Father of the Bride Col...</td>\n",
       "      <td>0</td>\n",
       "      <td>[{'id': 35, 'name': 'Comedy'}]</td>\n",
       "      <td>NANE</td>\n",
       "      <td>11862</td>\n",
       "      <td>tt0113041</td>\n",
       "      <td>en</td>\n",
       "      <td>Father of the Bride Part II</td>\n",
       "      <td>Just when George Banks has recovered from his ...</td>\n",
       "      <td>...</td>\n",
       "      <td>Father of the Bride Collection</td>\n",
       "      <td>96871.0</td>\n",
       "      <td>/nts4iOmNnq7GNicycMJ9pSAn204.jpg</td>\n",
       "      <td>/7qwE57OVZmMJChBpLEbJEmzUydk.jpg</td>\n",
       "      <td>Comedy</td>\n",
       "      <td>35</td>\n",
       "      <td>None</td>\n",
       "      <td>US</td>\n",
       "      <td>Sandollar Productions, Touchstone Pictures</td>\n",
       "      <td>5842, 9195</td>\n",
       "    </tr>\n",
       "  </tbody>\n",
       "</table>\n",
       "<p>5 rows × 34 columns</p>\n",
       "</div>"
      ],
      "text/plain": [
       "   adult                              belongs_to_collection    budget  \\\n",
       "0  False  {'id': 10194, 'name': 'Toy Story Collection', ...  30000000   \n",
       "1  False                                               NANE  65000000   \n",
       "2  False  {'id': 119050, 'name': 'Grumpy Old Men Collect...         0   \n",
       "3  False                                               NANE  16000000   \n",
       "4  False  {'id': 96871, 'name': 'Father of the Bride Col...         0   \n",
       "\n",
       "                                              genres  \\\n",
       "0  [{'id': 16, 'name': 'Animation'}, {'id': 35, '...   \n",
       "1  [{'id': 12, 'name': 'Adventure'}, {'id': 14, '...   \n",
       "2  [{'id': 10749, 'name': 'Romance'}, {'id': 35, ...   \n",
       "3  [{'id': 35, 'name': 'Comedy'}, {'id': 18, 'nam...   \n",
       "4                     [{'id': 35, 'name': 'Comedy'}]   \n",
       "\n",
       "                               homepage     id    imdb_id original_language  \\\n",
       "0  http://toystory.disney.com/toy-story    862  tt0114709                en   \n",
       "1                                  NANE   8844  tt0113497                en   \n",
       "2                                  NANE  15602  tt0113228                en   \n",
       "3                                  NANE  31357  tt0114885                en   \n",
       "4                                  NANE  11862  tt0113041                en   \n",
       "\n",
       "                original_title  \\\n",
       "0                    Toy Story   \n",
       "1                      Jumanji   \n",
       "2             Grumpier Old Men   \n",
       "3            Waiting to Exhale   \n",
       "4  Father of the Bride Part II   \n",
       "\n",
       "                                            overview  ...  \\\n",
       "0  Led by Woody, Andy's toys live happily in his ...  ...   \n",
       "1  When siblings Judy and Peter discover an encha...  ...   \n",
       "2  A family wedding reignites the ancient feud be...  ...   \n",
       "3  Cheated on, mistreated and stepped on, the wom...  ...   \n",
       "4  Just when George Banks has recovered from his ...  ...   \n",
       "\n",
       "       name_belongs_to_collection id_belongs_to_collection  \\\n",
       "0            Toy Story Collection                  10194.0   \n",
       "1                             NaN                      NaN   \n",
       "2       Grumpy Old Men Collection                 119050.0   \n",
       "3                             NaN                      NaN   \n",
       "4  Father of the Bride Collection                  96871.0   \n",
       "\n",
       "  poster_path_belongs_to_collection backdrop_path_belongs_to_collection  \\\n",
       "0  /7G9915LfUQ2lVfwMEEhDsn3kT4B.jpg    /9FBwqcd9IRruEDUrTdcaafOMKUq.jpg   \n",
       "1                               NaN                                 NaN   \n",
       "2  /nLvUdqgPgm3F85NMCii9gVFUcet.jpg    /hypTnLot2z8wpFS7qwsQHW1uV8u.jpg   \n",
       "3                               NaN                                 NaN   \n",
       "4  /nts4iOmNnq7GNicycMJ9pSAn204.jpg    /7qwE57OVZmMJChBpLEbJEmzUydk.jpg   \n",
       "\n",
       "                  name_genres      id_genres name_production_countries  \\\n",
       "0   Animation, Comedy, Family  16, 35, 10751                      None   \n",
       "1  Adventure, Fantasy, Family  12, 14, 10751                      None   \n",
       "2             Romance, Comedy      10749, 35                      None   \n",
       "3      Comedy, Drama, Romance  35, 18, 10749                      None   \n",
       "4                      Comedy             35                      None   \n",
       "\n",
       "  iso_3166_1_production_companies  \\\n",
       "0                              US   \n",
       "1                              US   \n",
       "2                              US   \n",
       "3                              US   \n",
       "4                              US   \n",
       "\n",
       "                           name_production_companies id_production_companies  \n",
       "0                            Pixar Animation Studios                       3  \n",
       "1  TriStar Pictures, Teitler Film, Interscope Com...        559, 2550, 10201  \n",
       "2                       Warner Bros., Lancaster Gate             6194, 19464  \n",
       "3             Twentieth Century Fox Film Corporation                     306  \n",
       "4         Sandollar Productions, Touchstone Pictures              5842, 9195  \n",
       "\n",
       "[5 rows x 34 columns]"
      ]
     },
     "execution_count": 137,
     "metadata": {},
     "output_type": "execute_result"
    }
   ],
   "source": [
    "movies.head()"
   ]
  },
  {
   "cell_type": "code",
   "execution_count": 138,
   "metadata": {},
   "outputs": [],
   "source": [
    "newMovies = movies.drop([\"spoken_languages\" ,\"genres\" ,\"production_countries\" ,\"belongs_to_collection\"] ,axis=1)\n",
    "newMovies.to_csv('data/NewMoviesMetadata.csv', index=False)"
   ]
  }
 ],
 "metadata": {
  "kernelspec": {
   "display_name": "Python 3",
   "language": "python",
   "name": "python3"
  },
  "language_info": {
   "codemirror_mode": {
    "name": "ipython",
    "version": 3
   },
   "file_extension": ".py",
   "mimetype": "text/x-python",
   "name": "python",
   "nbconvert_exporter": "python",
   "pygments_lexer": "ipython3",
   "version": "3.11.2"
  },
  "orig_nbformat": 4
 },
 "nbformat": 4,
 "nbformat_minor": 2
}
