{
 "cells": [
  {
   "attachments": {},
   "cell_type": "markdown",
   "metadata": {},
   "source": [
    "## Content Based Recommender"
   ]
  },
  {
   "cell_type": "code",
   "execution_count": 1,
   "metadata": {},
   "outputs": [],
   "source": [
    "import numpy as np\n",
    "import pandas as pd\n",
    "import matplotlib.pyplot as plt\n",
    "import seaborn as sns"
   ]
  },
  {
   "cell_type": "code",
   "execution_count": 2,
   "metadata": {},
   "outputs": [
    {
     "data": {
      "text/html": [
       "<div>\n",
       "<style scoped>\n",
       "    .dataframe tbody tr th:only-of-type {\n",
       "        vertical-align: middle;\n",
       "    }\n",
       "\n",
       "    .dataframe tbody tr th {\n",
       "        vertical-align: top;\n",
       "    }\n",
       "\n",
       "    .dataframe thead th {\n",
       "        text-align: right;\n",
       "    }\n",
       "</style>\n",
       "<table border=\"1\" class=\"dataframe\">\n",
       "  <thead>\n",
       "    <tr style=\"text-align: right;\">\n",
       "      <th></th>\n",
       "      <th>budget</th>\n",
       "      <th>id</th>\n",
       "      <th>imdb_id</th>\n",
       "      <th>original_language</th>\n",
       "      <th>original_title</th>\n",
       "      <th>overview</th>\n",
       "      <th>popularity</th>\n",
       "      <th>poster_path</th>\n",
       "      <th>release_date</th>\n",
       "      <th>revenue</th>\n",
       "      <th>...</th>\n",
       "      <th>title</th>\n",
       "      <th>vote_average</th>\n",
       "      <th>vote_count</th>\n",
       "      <th>name_genres</th>\n",
       "      <th>id_genres</th>\n",
       "      <th>name_production_countries</th>\n",
       "      <th>iso_3166_1_production_countries</th>\n",
       "      <th>name_production_companies</th>\n",
       "      <th>id_production_companies</th>\n",
       "      <th>year</th>\n",
       "    </tr>\n",
       "  </thead>\n",
       "  <tbody>\n",
       "    <tr>\n",
       "      <th>0</th>\n",
       "      <td>30.0</td>\n",
       "      <td>862</td>\n",
       "      <td>tt0114709</td>\n",
       "      <td>en</td>\n",
       "      <td>Toy Story</td>\n",
       "      <td>Led by Woody, Andy's toys live happily in his ...</td>\n",
       "      <td>21.946943</td>\n",
       "      <td>/rhIRbceoE9lR4veEXuwCC2wARtG.jpg</td>\n",
       "      <td>1995-10-30</td>\n",
       "      <td>373.554033</td>\n",
       "      <td>...</td>\n",
       "      <td>Toy Story</td>\n",
       "      <td>7.7</td>\n",
       "      <td>5415.0</td>\n",
       "      <td>Animation, Comedy, Family</td>\n",
       "      <td>16, 35, 10751</td>\n",
       "      <td>United States of America</td>\n",
       "      <td>US</td>\n",
       "      <td>Pixar Animation Studios</td>\n",
       "      <td>3</td>\n",
       "      <td>1995</td>\n",
       "    </tr>\n",
       "    <tr>\n",
       "      <th>1</th>\n",
       "      <td>65.0</td>\n",
       "      <td>8844</td>\n",
       "      <td>tt0113497</td>\n",
       "      <td>en</td>\n",
       "      <td>Jumanji</td>\n",
       "      <td>When siblings Judy and Peter discover an encha...</td>\n",
       "      <td>17.015539</td>\n",
       "      <td>/vzmL6fP7aPKNKPRTFnZmiUfciyV.jpg</td>\n",
       "      <td>1995-12-15</td>\n",
       "      <td>262.797249</td>\n",
       "      <td>...</td>\n",
       "      <td>Jumanji</td>\n",
       "      <td>6.9</td>\n",
       "      <td>2413.0</td>\n",
       "      <td>Adventure, Fantasy, Family</td>\n",
       "      <td>12, 14, 10751</td>\n",
       "      <td>United States of America</td>\n",
       "      <td>US</td>\n",
       "      <td>TriStar Pictures, Teitler Film, Interscope Com...</td>\n",
       "      <td>559, 2550, 10201</td>\n",
       "      <td>1995</td>\n",
       "    </tr>\n",
       "    <tr>\n",
       "      <th>2</th>\n",
       "      <td>0.0</td>\n",
       "      <td>15602</td>\n",
       "      <td>tt0113228</td>\n",
       "      <td>en</td>\n",
       "      <td>Grumpier Old Men</td>\n",
       "      <td>A family wedding reignites the ancient feud be...</td>\n",
       "      <td>11.712900</td>\n",
       "      <td>/6ksm1sjKMFLbO7UY2i6G1ju9SML.jpg</td>\n",
       "      <td>1995-12-22</td>\n",
       "      <td>0.000000</td>\n",
       "      <td>...</td>\n",
       "      <td>Grumpier Old Men</td>\n",
       "      <td>6.5</td>\n",
       "      <td>92.0</td>\n",
       "      <td>Romance, Comedy</td>\n",
       "      <td>10749, 35</td>\n",
       "      <td>United States of America</td>\n",
       "      <td>US</td>\n",
       "      <td>Warner Bros., Lancaster Gate</td>\n",
       "      <td>6194, 19464</td>\n",
       "      <td>1995</td>\n",
       "    </tr>\n",
       "    <tr>\n",
       "      <th>3</th>\n",
       "      <td>16.0</td>\n",
       "      <td>31357</td>\n",
       "      <td>tt0114885</td>\n",
       "      <td>en</td>\n",
       "      <td>Waiting to Exhale</td>\n",
       "      <td>Cheated on, mistreated and stepped on, the wom...</td>\n",
       "      <td>3.859495</td>\n",
       "      <td>/16XOMpEaLWkrcPqSQqhTmeJuqQl.jpg</td>\n",
       "      <td>1995-12-22</td>\n",
       "      <td>81.452156</td>\n",
       "      <td>...</td>\n",
       "      <td>Waiting to Exhale</td>\n",
       "      <td>6.1</td>\n",
       "      <td>34.0</td>\n",
       "      <td>Comedy, Drama, Romance</td>\n",
       "      <td>35, 18, 10749</td>\n",
       "      <td>United States of America</td>\n",
       "      <td>US</td>\n",
       "      <td>Twentieth Century Fox Film Corporation</td>\n",
       "      <td>306</td>\n",
       "      <td>1995</td>\n",
       "    </tr>\n",
       "    <tr>\n",
       "      <th>4</th>\n",
       "      <td>0.0</td>\n",
       "      <td>11862</td>\n",
       "      <td>tt0113041</td>\n",
       "      <td>en</td>\n",
       "      <td>Father of the Bride Part II</td>\n",
       "      <td>Just when George Banks has recovered from his ...</td>\n",
       "      <td>8.387519</td>\n",
       "      <td>/e64sOI48hQXyru7naBFyssKFxVd.jpg</td>\n",
       "      <td>1995-02-10</td>\n",
       "      <td>76.578911</td>\n",
       "      <td>...</td>\n",
       "      <td>Father of the Bride Part II</td>\n",
       "      <td>5.7</td>\n",
       "      <td>173.0</td>\n",
       "      <td>Comedy</td>\n",
       "      <td>35</td>\n",
       "      <td>United States of America</td>\n",
       "      <td>US</td>\n",
       "      <td>Sandollar Productions, Touchstone Pictures</td>\n",
       "      <td>5842, 9195</td>\n",
       "      <td>1995</td>\n",
       "    </tr>\n",
       "  </tbody>\n",
       "</table>\n",
       "<p>5 rows × 23 columns</p>\n",
       "</div>"
      ],
      "text/plain": [
       "   budget     id    imdb_id original_language               original_title  \\\n",
       "0    30.0    862  tt0114709                en                    Toy Story   \n",
       "1    65.0   8844  tt0113497                en                      Jumanji   \n",
       "2     0.0  15602  tt0113228                en             Grumpier Old Men   \n",
       "3    16.0  31357  tt0114885                en            Waiting to Exhale   \n",
       "4     0.0  11862  tt0113041                en  Father of the Bride Part II   \n",
       "\n",
       "                                            overview  popularity  \\\n",
       "0  Led by Woody, Andy's toys live happily in his ...   21.946943   \n",
       "1  When siblings Judy and Peter discover an encha...   17.015539   \n",
       "2  A family wedding reignites the ancient feud be...   11.712900   \n",
       "3  Cheated on, mistreated and stepped on, the wom...    3.859495   \n",
       "4  Just when George Banks has recovered from his ...    8.387519   \n",
       "\n",
       "                        poster_path release_date     revenue  ...  \\\n",
       "0  /rhIRbceoE9lR4veEXuwCC2wARtG.jpg   1995-10-30  373.554033  ...   \n",
       "1  /vzmL6fP7aPKNKPRTFnZmiUfciyV.jpg   1995-12-15  262.797249  ...   \n",
       "2  /6ksm1sjKMFLbO7UY2i6G1ju9SML.jpg   1995-12-22    0.000000  ...   \n",
       "3  /16XOMpEaLWkrcPqSQqhTmeJuqQl.jpg   1995-12-22   81.452156  ...   \n",
       "4  /e64sOI48hQXyru7naBFyssKFxVd.jpg   1995-02-10   76.578911  ...   \n",
       "\n",
       "                         title vote_average vote_count  \\\n",
       "0                    Toy Story          7.7     5415.0   \n",
       "1                      Jumanji          6.9     2413.0   \n",
       "2             Grumpier Old Men          6.5       92.0   \n",
       "3            Waiting to Exhale          6.1       34.0   \n",
       "4  Father of the Bride Part II          5.7      173.0   \n",
       "\n",
       "                  name_genres      id_genres  name_production_countries  \\\n",
       "0   Animation, Comedy, Family  16, 35, 10751   United States of America   \n",
       "1  Adventure, Fantasy, Family  12, 14, 10751   United States of America   \n",
       "2             Romance, Comedy      10749, 35   United States of America   \n",
       "3      Comedy, Drama, Romance  35, 18, 10749   United States of America   \n",
       "4                      Comedy             35   United States of America   \n",
       "\n",
       "  iso_3166_1_production_countries  \\\n",
       "0                              US   \n",
       "1                              US   \n",
       "2                              US   \n",
       "3                              US   \n",
       "4                              US   \n",
       "\n",
       "                           name_production_companies id_production_companies  \\\n",
       "0                            Pixar Animation Studios                       3   \n",
       "1  TriStar Pictures, Teitler Film, Interscope Com...        559, 2550, 10201   \n",
       "2                       Warner Bros., Lancaster Gate             6194, 19464   \n",
       "3             Twentieth Century Fox Film Corporation                     306   \n",
       "4         Sandollar Productions, Touchstone Pictures              5842, 9195   \n",
       "\n",
       "   year  \n",
       "0  1995  \n",
       "1  1995  \n",
       "2  1995  \n",
       "3  1995  \n",
       "4  1995  \n",
       "\n",
       "[5 rows x 23 columns]"
      ]
     },
     "execution_count": 2,
     "metadata": {},
     "output_type": "execute_result"
    }
   ],
   "source": [
    "movies = pd.read_csv('data/MoviesMetadata.csv')\n",
    "movies.head()"
   ]
  },
  {
   "cell_type": "code",
   "execution_count": 3,
   "metadata": {},
   "outputs": [
    {
     "data": {
      "text/plain": [
       "Index(['budget', 'id', 'imdb_id', 'original_language', 'original_title',\n",
       "       'overview', 'popularity', 'poster_path', 'release_date', 'revenue',\n",
       "       'runtime', 'status', 'tagline', 'title', 'vote_average', 'vote_count',\n",
       "       'name_genres', 'id_genres', 'name_production_countries',\n",
       "       'iso_3166_1_production_countries', 'name_production_companies',\n",
       "       'id_production_companies', 'year'],\n",
       "      dtype='object')"
      ]
     },
     "execution_count": 3,
     "metadata": {},
     "output_type": "execute_result"
    }
   ],
   "source": [
    "movies.columns"
   ]
  },
  {
   "cell_type": "code",
   "execution_count": 4,
   "metadata": {},
   "outputs": [
    {
     "data": {
      "text/plain": [
       "(45443, 20)"
      ]
     },
     "execution_count": 4,
     "metadata": {},
     "output_type": "execute_result"
    }
   ],
   "source": [
    "movies.drop(columns=['iso_3166_1_production_countries', 'id_production_companies', 'id_genres'], inplace=True)\n",
    "movies.shape"
   ]
  },
  {
   "cell_type": "code",
   "execution_count": 5,
   "metadata": {},
   "outputs": [],
   "source": [
    "links = pd.read_csv('data/links.csv')\n",
    "links = links[links['tmdbId'].notnull()]['tmdbId'].astype('int')"
   ]
  },
  {
   "cell_type": "code",
   "execution_count": 6,
   "metadata": {},
   "outputs": [
    {
     "data": {
      "text/plain": [
       "0      862\n",
       "1     8844\n",
       "2    15602\n",
       "3    31357\n",
       "4    11862\n",
       "Name: tmdbId, dtype: int64"
      ]
     },
     "execution_count": 6,
     "metadata": {},
     "output_type": "execute_result"
    }
   ],
   "source": [
    "links.head()"
   ]
  },
  {
   "cell_type": "code",
   "execution_count": 7,
   "metadata": {},
   "outputs": [
    {
     "data": {
      "text/plain": [
       "(45443, 20)"
      ]
     },
     "execution_count": 7,
     "metadata": {},
     "output_type": "execute_result"
    }
   ],
   "source": [
    "movies_meta = movies[movies['id'].isin(links)]\n",
    "movies_meta.shape"
   ]
  },
  {
   "cell_type": "code",
   "execution_count": 8,
   "metadata": {},
   "outputs": [],
   "source": [
    "movies_meta['description'] = movies_meta['overview'] + movies_meta['tagline']\n",
    "movies_meta['description'] = movies_meta['description'].fillna('')"
   ]
  },
  {
   "cell_type": "code",
   "execution_count": 9,
   "metadata": {},
   "outputs": [
    {
     "data": {
      "text/plain": [
       "(45443, 573636)"
      ]
     },
     "execution_count": 9,
     "metadata": {},
     "output_type": "execute_result"
    }
   ],
   "source": [
    "from sklearn.feature_extraction.text import TfidfVectorizer, CountVectorizer\n",
    "tf = TfidfVectorizer(analyzer='word', ngram_range=(1, 2), min_df=0, stop_words='english')\n",
    "tfidf_matrix = tf.fit_transform(movies_meta['description'])\n",
    "tfidf_matrix.shape"
   ]
  },
  {
   "cell_type": "code",
   "execution_count": 10,
   "metadata": {},
   "outputs": [],
   "source": [
    "from sklearn.metrics.pairwise import linear_kernel\n",
    "cosine_similarity = linear_kernel(tfidf_matrix, tfidf_matrix)"
   ]
  },
  {
   "cell_type": "code",
   "execution_count": 11,
   "metadata": {},
   "outputs": [],
   "source": [
    "movies_meta = movies_meta.reset_index()\n",
    "titles = movies_meta['title']\n",
    "indices = pd.Series(movies_meta.index, index=movies_meta['title'])"
   ]
  },
  {
   "cell_type": "code",
   "execution_count": 12,
   "metadata": {},
   "outputs": [
    {
     "data": {
      "text/plain": [
       "(45443,)"
      ]
     },
     "execution_count": 12,
     "metadata": {},
     "output_type": "execute_result"
    }
   ],
   "source": [
    "indices.shape"
   ]
  },
  {
   "cell_type": "code",
   "execution_count": 13,
   "metadata": {},
   "outputs": [],
   "source": [
    "def find_idx(title):\n",
    "    idx = pd.Series(indices[title])\n",
    "    return idx[0]"
   ]
  },
  {
   "cell_type": "code",
   "execution_count": 14,
   "metadata": {},
   "outputs": [],
   "source": [
    "def recommender(title):\n",
    "    idx = find_idx(title=title)\n",
    "    similarity_scores = list(enumerate(cosine_similarity[idx]))\n",
    "    similarity_scores = sorted(similarity_scores, key=lambda x: x[1], reverse=True)\n",
    "    similarity_scores = similarity_scores[1:21]\n",
    "    movie_indices = [i[0] for i in similarity_scores]\n",
    "    return titles.iloc[movie_indices]"
   ]
  },
  {
   "cell_type": "code",
   "execution_count": 15,
   "metadata": {},
   "outputs": [
    {
     "data": {
      "text/plain": [
       "18247                      The Dark Knight Rises\n",
       "150                               Batman Forever\n",
       "1328                              Batman Returns\n",
       "585                                       Batman\n",
       "15507                 Batman: Under the Red Hood\n",
       "20225    Batman: The Dark Knight Returns, Part 2\n",
       "41954                      The Lego Batman Movie\n",
       "18030                           Batman: Year One\n",
       "25255                          Batman vs Dracula\n",
       "9228          Batman Beyond: Return of the Joker\n",
       "22012                             The Super Cops\n",
       "11750                                  Slow Burn\n",
       "3094                Batman: Mask of the Phantasm\n",
       "3266                                         JFK\n",
       "32103           Batman Unlimited: Monster Mayhem\n",
       "19785    Batman: The Dark Knight Returns, Part 1\n",
       "39606                   Batman: The Killing Joke\n",
       "13928                                 Judas Kiss\n",
       "18253         Sherlock Holmes: A Game of Shadows\n",
       "7672                                 Masterminds\n",
       "Name: title, dtype: object"
      ]
     },
     "execution_count": 15,
     "metadata": {},
     "output_type": "execute_result"
    }
   ],
   "source": [
    "recommender('The Dark Knight').head(20)"
   ]
  },
  {
   "cell_type": "code",
   "execution_count": 16,
   "metadata": {},
   "outputs": [
    {
     "data": {
      "text/plain": [
       "23495                                             Luv\n",
       "5677          Harry Potter and the Chamber of Secrets\n",
       "22006                              The Starving Games\n",
       "4369                                    The Dead Pool\n",
       "7724         Harry Potter and the Prisoner of Azkaban\n",
       "10551             Harry Potter and the Goblet of Fire\n",
       "18616                           A Very Potter Musical\n",
       "39045                               Bullet to Beijing\n",
       "3950                         Harry, He's Here To Help\n",
       "7114                                    Love at Large\n",
       "11924       Harry Potter and the Order of the Phoenix\n",
       "30551                                            1920\n",
       "39672                               Bridge and Tunnel\n",
       "3583                                      Angel Heart\n",
       "16124    Harry Potter and the Deathly Hallows: Part 1\n",
       "18820                                Wild About Harry\n",
       "17432    Harry Potter and the Deathly Hallows: Part 2\n",
       "1596                                        Incognito\n",
       "4979                                     The Good Son\n",
       "3269                                  Let's Get Harry\n",
       "Name: title, dtype: object"
      ]
     },
     "execution_count": 16,
     "metadata": {},
     "output_type": "execute_result"
    }
   ],
   "source": [
    "recommender('Harry Potter and the Philosopher\\'s Stone').head(20)"
   ]
  },
  {
   "cell_type": "code",
   "execution_count": 17,
   "metadata": {},
   "outputs": [
    {
     "data": {
      "text/plain": [
       "21374              Alan Partridge: Alpha Papa\n",
       "6733                                   Sylvia\n",
       "40394                           Hacksaw Ridge\n",
       "493                                 Mr. Jones\n",
       "21750           Muhammad Ali's Greatest Fight\n",
       "12266                           Close My Eyes\n",
       "43873                            Giving It Up\n",
       "32811                     The Lady in the Van\n",
       "22201                          Geography Club\n",
       "22820    The Cutting Edge: Going for the Gold\n",
       "14014               Just Sex and Nothing Else\n",
       "5970                       One from the Heart\n",
       "21508         Family Band: The Cowsills Story\n",
       "13684                     The Merry Gentleman\n",
       "41997                                 Rangoon\n",
       "34184                              Blind Date\n",
       "6388                            Swimming Pool\n",
       "10782                        Imagine Me & You\n",
       "41062                        The Constitution\n",
       "1852                       Driving Miss Daisy\n",
       "Name: title, dtype: object"
      ]
     },
     "execution_count": 17,
     "metadata": {},
     "output_type": "execute_result"
    }
   ],
   "source": [
    "recommender('Carrington').head(20)"
   ]
  }
 ],
 "metadata": {
  "kernelspec": {
   "display_name": "Python 3",
   "language": "python",
   "name": "python3"
  },
  "language_info": {
   "codemirror_mode": {
    "name": "ipython",
    "version": 3
   },
   "file_extension": ".py",
   "mimetype": "text/x-python",
   "name": "python",
   "nbconvert_exporter": "python",
   "pygments_lexer": "ipython3",
   "version": "3.11.2"
  },
  "orig_nbformat": 4
 },
 "nbformat": 4,
 "nbformat_minor": 2
}
