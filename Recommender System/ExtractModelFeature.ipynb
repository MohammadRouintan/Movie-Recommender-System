{
 "cells": [
  {
   "attachments": {},
   "cell_type": "markdown",
   "metadata": {},
   "source": [
    "## Extract Appropriate feature for TfidfVectorizer"
   ]
  },
  {
   "cell_type": "code",
   "execution_count": 7,
   "metadata": {},
   "outputs": [],
   "source": [
    "import numpy as np\n",
    "import pandas as pd\n",
    "import matplotlib.pyplot as plt"
   ]
  },
  {
   "cell_type": "code",
   "execution_count": 8,
   "metadata": {},
   "outputs": [
    {
     "data": {
      "text/html": [
       "<div>\n",
       "<style scoped>\n",
       "    .dataframe tbody tr th:only-of-type {\n",
       "        vertical-align: middle;\n",
       "    }\n",
       "\n",
       "    .dataframe tbody tr th {\n",
       "        vertical-align: top;\n",
       "    }\n",
       "\n",
       "    .dataframe thead th {\n",
       "        text-align: right;\n",
       "    }\n",
       "</style>\n",
       "<table border=\"1\" class=\"dataframe\">\n",
       "  <thead>\n",
       "    <tr style=\"text-align: right;\">\n",
       "      <th></th>\n",
       "      <th>budget</th>\n",
       "      <th>id</th>\n",
       "      <th>imdb_id</th>\n",
       "      <th>original_language</th>\n",
       "      <th>original_title</th>\n",
       "      <th>overview</th>\n",
       "      <th>popularity</th>\n",
       "      <th>poster_path</th>\n",
       "      <th>release_date</th>\n",
       "      <th>revenue</th>\n",
       "      <th>...</th>\n",
       "      <th>title</th>\n",
       "      <th>vote_average</th>\n",
       "      <th>vote_count</th>\n",
       "      <th>name_genres</th>\n",
       "      <th>id_genres</th>\n",
       "      <th>name_production_countries</th>\n",
       "      <th>iso_3166_1_production_countries</th>\n",
       "      <th>name_production_companies</th>\n",
       "      <th>id_production_companies</th>\n",
       "      <th>year</th>\n",
       "    </tr>\n",
       "  </thead>\n",
       "  <tbody>\n",
       "    <tr>\n",
       "      <th>0</th>\n",
       "      <td>30.0</td>\n",
       "      <td>862</td>\n",
       "      <td>tt0114709</td>\n",
       "      <td>en</td>\n",
       "      <td>Toy Story</td>\n",
       "      <td>Led by Woody, Andy's toys live happily in his ...</td>\n",
       "      <td>21.946943</td>\n",
       "      <td>/rhIRbceoE9lR4veEXuwCC2wARtG.jpg</td>\n",
       "      <td>1995-10-30</td>\n",
       "      <td>373.554033</td>\n",
       "      <td>...</td>\n",
       "      <td>Toy Story</td>\n",
       "      <td>7.7</td>\n",
       "      <td>5415.0</td>\n",
       "      <td>Animation, Comedy, Family</td>\n",
       "      <td>16, 35, 10751</td>\n",
       "      <td>United States of America</td>\n",
       "      <td>US</td>\n",
       "      <td>Pixar Animation Studios</td>\n",
       "      <td>3</td>\n",
       "      <td>1995</td>\n",
       "    </tr>\n",
       "    <tr>\n",
       "      <th>1</th>\n",
       "      <td>65.0</td>\n",
       "      <td>8844</td>\n",
       "      <td>tt0113497</td>\n",
       "      <td>en</td>\n",
       "      <td>Jumanji</td>\n",
       "      <td>When siblings Judy and Peter discover an encha...</td>\n",
       "      <td>17.015539</td>\n",
       "      <td>/vzmL6fP7aPKNKPRTFnZmiUfciyV.jpg</td>\n",
       "      <td>1995-12-15</td>\n",
       "      <td>262.797249</td>\n",
       "      <td>...</td>\n",
       "      <td>Jumanji</td>\n",
       "      <td>6.9</td>\n",
       "      <td>2413.0</td>\n",
       "      <td>Adventure, Fantasy, Family</td>\n",
       "      <td>12, 14, 10751</td>\n",
       "      <td>United States of America</td>\n",
       "      <td>US</td>\n",
       "      <td>TriStar Pictures, Teitler Film, Interscope Com...</td>\n",
       "      <td>559, 2550, 10201</td>\n",
       "      <td>1995</td>\n",
       "    </tr>\n",
       "    <tr>\n",
       "      <th>2</th>\n",
       "      <td>0.0</td>\n",
       "      <td>15602</td>\n",
       "      <td>tt0113228</td>\n",
       "      <td>en</td>\n",
       "      <td>Grumpier Old Men</td>\n",
       "      <td>A family wedding reignites the ancient feud be...</td>\n",
       "      <td>11.712900</td>\n",
       "      <td>/6ksm1sjKMFLbO7UY2i6G1ju9SML.jpg</td>\n",
       "      <td>1995-12-22</td>\n",
       "      <td>0.000000</td>\n",
       "      <td>...</td>\n",
       "      <td>Grumpier Old Men</td>\n",
       "      <td>6.5</td>\n",
       "      <td>92.0</td>\n",
       "      <td>Romance, Comedy</td>\n",
       "      <td>10749, 35</td>\n",
       "      <td>United States of America</td>\n",
       "      <td>US</td>\n",
       "      <td>Warner Bros., Lancaster Gate</td>\n",
       "      <td>6194, 19464</td>\n",
       "      <td>1995</td>\n",
       "    </tr>\n",
       "    <tr>\n",
       "      <th>3</th>\n",
       "      <td>16.0</td>\n",
       "      <td>31357</td>\n",
       "      <td>tt0114885</td>\n",
       "      <td>en</td>\n",
       "      <td>Waiting to Exhale</td>\n",
       "      <td>Cheated on, mistreated and stepped on, the wom...</td>\n",
       "      <td>3.859495</td>\n",
       "      <td>/16XOMpEaLWkrcPqSQqhTmeJuqQl.jpg</td>\n",
       "      <td>1995-12-22</td>\n",
       "      <td>81.452156</td>\n",
       "      <td>...</td>\n",
       "      <td>Waiting to Exhale</td>\n",
       "      <td>6.1</td>\n",
       "      <td>34.0</td>\n",
       "      <td>Comedy, Drama, Romance</td>\n",
       "      <td>35, 18, 10749</td>\n",
       "      <td>United States of America</td>\n",
       "      <td>US</td>\n",
       "      <td>Twentieth Century Fox Film Corporation</td>\n",
       "      <td>306</td>\n",
       "      <td>1995</td>\n",
       "    </tr>\n",
       "    <tr>\n",
       "      <th>4</th>\n",
       "      <td>0.0</td>\n",
       "      <td>11862</td>\n",
       "      <td>tt0113041</td>\n",
       "      <td>en</td>\n",
       "      <td>Father of the Bride Part II</td>\n",
       "      <td>Just when George Banks has recovered from his ...</td>\n",
       "      <td>8.387519</td>\n",
       "      <td>/e64sOI48hQXyru7naBFyssKFxVd.jpg</td>\n",
       "      <td>1995-02-10</td>\n",
       "      <td>76.578911</td>\n",
       "      <td>...</td>\n",
       "      <td>Father of the Bride Part II</td>\n",
       "      <td>5.7</td>\n",
       "      <td>173.0</td>\n",
       "      <td>Comedy</td>\n",
       "      <td>35</td>\n",
       "      <td>United States of America</td>\n",
       "      <td>US</td>\n",
       "      <td>Sandollar Productions, Touchstone Pictures</td>\n",
       "      <td>5842, 9195</td>\n",
       "      <td>1995</td>\n",
       "    </tr>\n",
       "  </tbody>\n",
       "</table>\n",
       "<p>5 rows × 23 columns</p>\n",
       "</div>"
      ],
      "text/plain": [
       "   budget     id    imdb_id original_language               original_title  \\\n",
       "0    30.0    862  tt0114709                en                    Toy Story   \n",
       "1    65.0   8844  tt0113497                en                      Jumanji   \n",
       "2     0.0  15602  tt0113228                en             Grumpier Old Men   \n",
       "3    16.0  31357  tt0114885                en            Waiting to Exhale   \n",
       "4     0.0  11862  tt0113041                en  Father of the Bride Part II   \n",
       "\n",
       "                                            overview  popularity  \\\n",
       "0  Led by Woody, Andy's toys live happily in his ...   21.946943   \n",
       "1  When siblings Judy and Peter discover an encha...   17.015539   \n",
       "2  A family wedding reignites the ancient feud be...   11.712900   \n",
       "3  Cheated on, mistreated and stepped on, the wom...    3.859495   \n",
       "4  Just when George Banks has recovered from his ...    8.387519   \n",
       "\n",
       "                        poster_path release_date     revenue  ...  \\\n",
       "0  /rhIRbceoE9lR4veEXuwCC2wARtG.jpg   1995-10-30  373.554033  ...   \n",
       "1  /vzmL6fP7aPKNKPRTFnZmiUfciyV.jpg   1995-12-15  262.797249  ...   \n",
       "2  /6ksm1sjKMFLbO7UY2i6G1ju9SML.jpg   1995-12-22    0.000000  ...   \n",
       "3  /16XOMpEaLWkrcPqSQqhTmeJuqQl.jpg   1995-12-22   81.452156  ...   \n",
       "4  /e64sOI48hQXyru7naBFyssKFxVd.jpg   1995-02-10   76.578911  ...   \n",
       "\n",
       "                         title vote_average vote_count  \\\n",
       "0                    Toy Story          7.7     5415.0   \n",
       "1                      Jumanji          6.9     2413.0   \n",
       "2             Grumpier Old Men          6.5       92.0   \n",
       "3            Waiting to Exhale          6.1       34.0   \n",
       "4  Father of the Bride Part II          5.7      173.0   \n",
       "\n",
       "                  name_genres      id_genres  name_production_countries  \\\n",
       "0   Animation, Comedy, Family  16, 35, 10751   United States of America   \n",
       "1  Adventure, Fantasy, Family  12, 14, 10751   United States of America   \n",
       "2             Romance, Comedy      10749, 35   United States of America   \n",
       "3      Comedy, Drama, Romance  35, 18, 10749   United States of America   \n",
       "4                      Comedy             35   United States of America   \n",
       "\n",
       "  iso_3166_1_production_countries  \\\n",
       "0                              US   \n",
       "1                              US   \n",
       "2                              US   \n",
       "3                              US   \n",
       "4                              US   \n",
       "\n",
       "                           name_production_companies id_production_companies  \\\n",
       "0                            Pixar Animation Studios                       3   \n",
       "1  TriStar Pictures, Teitler Film, Interscope Com...        559, 2550, 10201   \n",
       "2                       Warner Bros., Lancaster Gate             6194, 19464   \n",
       "3             Twentieth Century Fox Film Corporation                     306   \n",
       "4         Sandollar Productions, Touchstone Pictures              5842, 9195   \n",
       "\n",
       "   year  \n",
       "0  1995  \n",
       "1  1995  \n",
       "2  1995  \n",
       "3  1995  \n",
       "4  1995  \n",
       "\n",
       "[5 rows x 23 columns]"
      ]
     },
     "execution_count": 8,
     "metadata": {},
     "output_type": "execute_result"
    }
   ],
   "source": [
    "movies = pd.read_csv('../data/MoviesMetadata.csv')\n",
    "movies.head()"
   ]
  },
  {
   "cell_type": "code",
   "execution_count": 9,
   "metadata": {},
   "outputs": [
    {
     "data": {
      "text/plain": [
       "(45443, 20)"
      ]
     },
     "execution_count": 9,
     "metadata": {},
     "output_type": "execute_result"
    }
   ],
   "source": [
    "movies.drop(columns=['iso_3166_1_production_countries', 'id_production_companies', 'id_genres'], inplace=True)\n",
    "movies.shape"
   ]
  },
  {
   "cell_type": "code",
   "execution_count": 10,
   "metadata": {},
   "outputs": [],
   "source": [
    "credits = pd.read_csv('../data/NewCredits.csv')\n",
    "keywords = pd.read_csv('../data/NewKeywords.csv')"
   ]
  },
  {
   "cell_type": "code",
   "execution_count": 11,
   "metadata": {},
   "outputs": [],
   "source": [
    "keywords['id'] = keywords['id'].astype('int')\n",
    "credits['id'] = credits['id'].astype('int')"
   ]
  },
  {
   "cell_type": "code",
   "execution_count": 12,
   "metadata": {},
   "outputs": [],
   "source": [
    "movies = movies.merge(credits, on='id')\n",
    "movies = movies.merge(keywords, on='id')"
   ]
  },
  {
   "cell_type": "code",
   "execution_count": 13,
   "metadata": {},
   "outputs": [],
   "source": [
    "links = pd.read_csv('../data/links.csv')\n",
    "links = links[links['tmdbId'].notnull()]['tmdbId'].astype('int')"
   ]
  },
  {
   "cell_type": "code",
   "execution_count": 14,
   "metadata": {},
   "outputs": [
    {
     "data": {
      "text/plain": [
       "(45453, 35)"
      ]
     },
     "execution_count": 14,
     "metadata": {},
     "output_type": "execute_result"
    }
   ],
   "source": [
    "movies_meta = movies[movies['id'].isin(links)].copy()\n",
    "movies_meta.shape"
   ]
  },
  {
   "cell_type": "code",
   "execution_count": 15,
   "metadata": {},
   "outputs": [],
   "source": [
    "def is_float(string):\n",
    "    try:\n",
    "        float(string)\n",
    "        return True\n",
    "    except ValueError:\n",
    "        return False"
   ]
  },
  {
   "cell_type": "code",
   "execution_count": 16,
   "metadata": {},
   "outputs": [],
   "source": [
    "def find_director(job_crew, index):\n",
    "    if not is_float(job_crew):\n",
    "        jobs = job_crew.split(', ')\n",
    "        for job in jobs:\n",
    "            if job == 'Director':\n",
    "                idx = jobs.index(job)\n",
    "                names = movies_meta.loc[index, 'name_crew']\n",
    "                if not is_float(names):\n",
    "                    names = names.split(', ')\n",
    "                    return names[idx]\n",
    "                else:\n",
    "                    return np.nan\n",
    "    return np.nan"
   ]
  },
  {
   "cell_type": "code",
   "execution_count": 17,
   "metadata": {},
   "outputs": [
    {
     "data": {
      "text/plain": [
       "0           John Lasseter\n",
       "1            Joe Johnston\n",
       "2           Howard Deutch\n",
       "3         Forest Whitaker\n",
       "4           Charles Shyer\n",
       "               ...       \n",
       "45448    Hamid Nematollah\n",
       "45449            Lav Diaz\n",
       "45450      Mark L. Lester\n",
       "45451    Yakov Protazanov\n",
       "45452       Daisy Asquith\n",
       "Name: director, Length: 45453, dtype: object"
      ]
     },
     "execution_count": 17,
     "metadata": {},
     "output_type": "execute_result"
    }
   ],
   "source": [
    "for i in movies_meta.index:\n",
    "    movies_meta.loc[i, 'director'] = find_director(movies_meta.loc[i, 'job_crew'], i)\n",
    "movies_meta['director']"
   ]
  },
  {
   "cell_type": "code",
   "execution_count": 18,
   "metadata": {},
   "outputs": [
    {
     "data": {
      "text/plain": [
       "887"
      ]
     },
     "execution_count": 18,
     "metadata": {},
     "output_type": "execute_result"
    }
   ],
   "source": [
    "movies_meta['director'].isna().sum()"
   ]
  },
  {
   "cell_type": "code",
   "execution_count": 19,
   "metadata": {},
   "outputs": [
    {
     "data": {
      "text/plain": [
       "0           [johnlasseter]\n",
       "1            [joejohnston]\n",
       "2           [howarddeutch]\n",
       "3         [forestwhitaker]\n",
       "4           [charlesshyer]\n",
       "               ...        \n",
       "45448    [hamidnematollah]\n",
       "45449            [lavdiaz]\n",
       "45450       [markl.lester]\n",
       "45451    [yakovprotazanov]\n",
       "45452       [daisyasquith]\n",
       "Name: director, Length: 45453, dtype: object"
      ]
     },
     "execution_count": 19,
     "metadata": {},
     "output_type": "execute_result"
    }
   ],
   "source": [
    "movies_meta['director'] = movies_meta['director'].astype('str').apply(lambda x: str.lower(x.replace(\" \", \"\")))\n",
    "movies_meta['director'] = movies_meta['director'].apply(lambda x: [x])\n",
    "movies_meta['director']"
   ]
  },
  {
   "cell_type": "code",
   "execution_count": 20,
   "metadata": {},
   "outputs": [],
   "source": [
    "keywords_set = set()\n",
    "def find_unique(keywords_str):\n",
    "    if not is_float(keywords_str):\n",
    "        string_list = keywords_str.split(', ')\n",
    "        for string in string_list:\n",
    "            keywords_set.add(string)"
   ]
  },
  {
   "cell_type": "code",
   "execution_count": 21,
   "metadata": {},
   "outputs": [
    {
     "data": {
      "text/plain": [
       "0        None\n",
       "1        None\n",
       "2        None\n",
       "3        None\n",
       "4        None\n",
       "         ... \n",
       "45448    None\n",
       "45449    None\n",
       "45450    None\n",
       "45451    None\n",
       "45452    None\n",
       "Name: name_keywords, Length: 45453, dtype: object"
      ]
     },
     "execution_count": 21,
     "metadata": {},
     "output_type": "execute_result"
    }
   ],
   "source": [
    "movies_meta['name_keywords'].apply(find_unique)"
   ]
  },
  {
   "cell_type": "code",
   "execution_count": 22,
   "metadata": {},
   "outputs": [],
   "source": [
    "keywords_dict = dict()\n",
    "\n",
    "for keyword in keywords_set:\n",
    "    keywords_dict[keyword] = 0\n",
    "    \n",
    "def count(keywords_str):\n",
    "    if not is_float(keywords_str):\n",
    "        string_list = keywords_str.split(', ')\n",
    "        for string in string_list:\n",
    "            keywords_dict[string] += 1"
   ]
  },
  {
   "cell_type": "code",
   "execution_count": 23,
   "metadata": {},
   "outputs": [
    {
     "data": {
      "text/plain": [
       "0        None\n",
       "1        None\n",
       "2        None\n",
       "3        None\n",
       "4        None\n",
       "         ... \n",
       "45448    None\n",
       "45449    None\n",
       "45450    None\n",
       "45451    None\n",
       "45452    None\n",
       "Name: name_keywords, Length: 45453, dtype: object"
      ]
     },
     "execution_count": 23,
     "metadata": {},
     "output_type": "execute_result"
    }
   ],
   "source": [
    "movies_meta['name_keywords'].apply(count)"
   ]
  },
  {
   "cell_type": "code",
   "execution_count": 24,
   "metadata": {},
   "outputs": [],
   "source": [
    "keyword_unique = pd.Series(keywords_dict)"
   ]
  },
  {
   "cell_type": "code",
   "execution_count": 25,
   "metadata": {},
   "outputs": [
    {
     "data": {
      "text/plain": [
       "reference to longfellow     2\n",
       "man eating plant            5\n",
       "charles manson              4\n",
       "light                      14\n",
       "langley virginia            4\n",
       "                           ..\n",
       "romulans                    3\n",
       "exchange student            3\n",
       "poem or rhyme               4\n",
       "east germany                8\n",
       "schlock                     3\n",
       "Length: 11278, dtype: int64"
      ]
     },
     "execution_count": 25,
     "metadata": {},
     "output_type": "execute_result"
    }
   ],
   "source": [
    "keyword_unique = keyword_unique[keyword_unique > 1]\n",
    "keyword_unique"
   ]
  },
  {
   "cell_type": "code",
   "execution_count": 26,
   "metadata": {},
   "outputs": [],
   "source": [
    "def keywords_filtering(keywords):\n",
    "    final_keywords = list()\n",
    "    if not is_float(keywords):\n",
    "        keywords_list = keywords.split(', ')\n",
    "        for key in keywords_list:\n",
    "            if key in keyword_unique:\n",
    "                final_keywords.append(key)\n",
    "    return final_keywords"
   ]
  },
  {
   "cell_type": "code",
   "execution_count": 27,
   "metadata": {},
   "outputs": [],
   "source": [
    "from nltk.stem.snowball import SnowballStemmer\n",
    "stemmer = SnowballStemmer('english')"
   ]
  },
  {
   "cell_type": "code",
   "execution_count": 28,
   "metadata": {},
   "outputs": [],
   "source": [
    "movies_meta['name_keywords'] = movies_meta['name_keywords'].apply(keywords_filtering)\n",
    "movies_meta['name_keywords'] = movies_meta['name_keywords'].apply(lambda x: [stemmer.stem(i) for i in x])\n",
    "movies_meta['name_keywords'] = movies_meta['name_keywords'].apply(lambda x: [str.lower(i.replace(\" \", \"\")) for i in x])"
   ]
  },
  {
   "cell_type": "code",
   "execution_count": 29,
   "metadata": {},
   "outputs": [],
   "source": [
    "def str_to_list(col):\n",
    "    if not is_float(col):\n",
    "        return col.split(', ')\n",
    "    else:\n",
    "        return []"
   ]
  },
  {
   "cell_type": "code",
   "execution_count": 30,
   "metadata": {},
   "outputs": [],
   "source": [
    "for i in movies_meta.index:\n",
    "    if movies_meta.loc[i, 'name_genres'] == '[]':\n",
    "        movies_meta.loc[i, 'name_genres'] = np.nan"
   ]
  },
  {
   "cell_type": "code",
   "execution_count": 31,
   "metadata": {},
   "outputs": [],
   "source": [
    "movies_meta['name_cast'] = movies_meta['name_cast'].apply(str_to_list)\n",
    "movies_meta['name_genres'] = movies_meta['name_genres'].apply(str_to_list)"
   ]
  },
  {
   "cell_type": "code",
   "execution_count": 32,
   "metadata": {},
   "outputs": [],
   "source": [
    "movies_meta['name_cast'] = movies_meta['name_cast'].apply(lambda x: [str.lower(i.replace(\" \", \"\")) for i in x])\n",
    "movies_meta['name_genres'] = movies_meta['name_genres'].apply(lambda x: [str.lower(i.replace(\" \", \"\")) for i in x])"
   ]
  },
  {
   "cell_type": "code",
   "execution_count": 33,
   "metadata": {},
   "outputs": [],
   "source": [
    "movies_meta['model_feature'] = movies_meta['name_keywords'] + movies_meta['name_cast'] + movies_meta['director'] + movies_meta['name_genres']\n",
    "movies_meta['model_feature'] = movies_meta['model_feature'].apply(lambda x: ' '.join(x))"
   ]
  },
  {
   "cell_type": "code",
   "execution_count": 34,
   "metadata": {},
   "outputs": [
    {
     "data": {
      "text/plain": [
       "0        jealousi toy boy friendship friend rivalri boy...\n",
       "1        boardgam disappear basedonchildren'sbook newho...\n",
       "2        fish bestfriend duringcreditssting oldmen walt...\n",
       "3        basedonnovel interracialrelationship singlemot...\n",
       "4        babi midlifecrisi confid age daughter motherda...\n",
       "                               ...                        \n",
       "45448    tragiclov leilahatami kouroshtahami elhamkorda...\n",
       "45449    artist play pinoy angelaquino perrydizon hazel...\n",
       "45450    erikaeleniak adambaldwin juliedupage jamesrema...\n",
       "45451    iwanmosschuchin nathalielissenko pavelpavlov a...\n",
       "45452                                         daisyasquith\n",
       "Name: model_feature, Length: 45453, dtype: object"
      ]
     },
     "execution_count": 34,
     "metadata": {},
     "output_type": "execute_result"
    }
   ],
   "source": [
    "movies_meta['model_feature']"
   ]
  },
  {
   "cell_type": "code",
   "execution_count": 35,
   "metadata": {},
   "outputs": [],
   "source": [
    "movies_meta['model_feature'].to_csv('../data/MovieBasedRecommenderData.csv', index=False)"
   ]
  }
 ],
 "metadata": {
  "kernelspec": {
   "display_name": "Python 3 (ipykernel)",
   "language": "python",
   "name": "python3"
  },
  "language_info": {
   "codemirror_mode": {
    "name": "ipython",
    "version": 3
   },
   "file_extension": ".py",
   "mimetype": "text/x-python",
   "name": "python",
   "nbconvert_exporter": "python",
   "pygments_lexer": "ipython3",
   "version": "3.11.2"
  }
 },
 "nbformat": 4,
 "nbformat_minor": 2
}
