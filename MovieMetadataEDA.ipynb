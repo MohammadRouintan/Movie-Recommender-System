{
 "cells": [
  {
   "attachments": {},
   "cell_type": "markdown",
   "metadata": {},
   "source": [
    "## Movie Metadata EDA"
   ]
  },
  {
   "cell_type": "code",
   "execution_count": 46,
   "metadata": {},
   "outputs": [],
   "source": [
    "import numpy as np\n",
    "import pandas as pd\n",
    "import matplotlib.pyplot as plt\n",
    "import seaborn as sns"
   ]
  },
  {
   "cell_type": "code",
   "execution_count": 47,
   "metadata": {},
   "outputs": [
    {
     "data": {
      "text/html": [
       "<div>\n",
       "<style scoped>\n",
       "    .dataframe tbody tr th:only-of-type {\n",
       "        vertical-align: middle;\n",
       "    }\n",
       "\n",
       "    .dataframe tbody tr th {\n",
       "        vertical-align: top;\n",
       "    }\n",
       "\n",
       "    .dataframe thead th {\n",
       "        text-align: right;\n",
       "    }\n",
       "</style>\n",
       "<table border=\"1\" class=\"dataframe\">\n",
       "  <thead>\n",
       "    <tr style=\"text-align: right;\">\n",
       "      <th></th>\n",
       "      <th>adult</th>\n",
       "      <th>budget</th>\n",
       "      <th>homepage</th>\n",
       "      <th>id</th>\n",
       "      <th>imdb_id</th>\n",
       "      <th>original_language</th>\n",
       "      <th>original_title</th>\n",
       "      <th>overview</th>\n",
       "      <th>popularity</th>\n",
       "      <th>poster_path</th>\n",
       "      <th>...</th>\n",
       "      <th>name_belongs_to_collection</th>\n",
       "      <th>id_belongs_to_collection</th>\n",
       "      <th>poster_path_belongs_to_collection</th>\n",
       "      <th>backdrop_path_belongs_to_collection</th>\n",
       "      <th>name_genres</th>\n",
       "      <th>id_genres</th>\n",
       "      <th>name_production_countries</th>\n",
       "      <th>iso_3166_1_production_companies</th>\n",
       "      <th>name_production_companies</th>\n",
       "      <th>id_production_companies</th>\n",
       "    </tr>\n",
       "  </thead>\n",
       "  <tbody>\n",
       "    <tr>\n",
       "      <th>0</th>\n",
       "      <td>False</td>\n",
       "      <td>30000000</td>\n",
       "      <td>http://toystory.disney.com/toy-story</td>\n",
       "      <td>862</td>\n",
       "      <td>tt0114709</td>\n",
       "      <td>en</td>\n",
       "      <td>Toy Story</td>\n",
       "      <td>Led by Woody, Andy's toys live happily in his ...</td>\n",
       "      <td>21.946943</td>\n",
       "      <td>/rhIRbceoE9lR4veEXuwCC2wARtG.jpg</td>\n",
       "      <td>...</td>\n",
       "      <td>Toy Story Collection</td>\n",
       "      <td>10194.0</td>\n",
       "      <td>/7G9915LfUQ2lVfwMEEhDsn3kT4B.jpg</td>\n",
       "      <td>/9FBwqcd9IRruEDUrTdcaafOMKUq.jpg</td>\n",
       "      <td>Animation, Comedy, Family</td>\n",
       "      <td>16, 35, 10751</td>\n",
       "      <td>NaN</td>\n",
       "      <td>US</td>\n",
       "      <td>Pixar Animation Studios</td>\n",
       "      <td>3</td>\n",
       "    </tr>\n",
       "    <tr>\n",
       "      <th>1</th>\n",
       "      <td>False</td>\n",
       "      <td>65000000</td>\n",
       "      <td>NANE</td>\n",
       "      <td>8844</td>\n",
       "      <td>tt0113497</td>\n",
       "      <td>en</td>\n",
       "      <td>Jumanji</td>\n",
       "      <td>When siblings Judy and Peter discover an encha...</td>\n",
       "      <td>17.015539</td>\n",
       "      <td>/vzmL6fP7aPKNKPRTFnZmiUfciyV.jpg</td>\n",
       "      <td>...</td>\n",
       "      <td>NaN</td>\n",
       "      <td>NaN</td>\n",
       "      <td>NaN</td>\n",
       "      <td>NaN</td>\n",
       "      <td>Adventure, Fantasy, Family</td>\n",
       "      <td>12, 14, 10751</td>\n",
       "      <td>NaN</td>\n",
       "      <td>US</td>\n",
       "      <td>TriStar Pictures, Teitler Film, Interscope Com...</td>\n",
       "      <td>559, 2550, 10201</td>\n",
       "    </tr>\n",
       "    <tr>\n",
       "      <th>2</th>\n",
       "      <td>False</td>\n",
       "      <td>0</td>\n",
       "      <td>NANE</td>\n",
       "      <td>15602</td>\n",
       "      <td>tt0113228</td>\n",
       "      <td>en</td>\n",
       "      <td>Grumpier Old Men</td>\n",
       "      <td>A family wedding reignites the ancient feud be...</td>\n",
       "      <td>11.712900</td>\n",
       "      <td>/6ksm1sjKMFLbO7UY2i6G1ju9SML.jpg</td>\n",
       "      <td>...</td>\n",
       "      <td>Grumpy Old Men Collection</td>\n",
       "      <td>119050.0</td>\n",
       "      <td>/nLvUdqgPgm3F85NMCii9gVFUcet.jpg</td>\n",
       "      <td>/hypTnLot2z8wpFS7qwsQHW1uV8u.jpg</td>\n",
       "      <td>Romance, Comedy</td>\n",
       "      <td>10749, 35</td>\n",
       "      <td>NaN</td>\n",
       "      <td>US</td>\n",
       "      <td>Warner Bros., Lancaster Gate</td>\n",
       "      <td>6194, 19464</td>\n",
       "    </tr>\n",
       "    <tr>\n",
       "      <th>3</th>\n",
       "      <td>False</td>\n",
       "      <td>16000000</td>\n",
       "      <td>NANE</td>\n",
       "      <td>31357</td>\n",
       "      <td>tt0114885</td>\n",
       "      <td>en</td>\n",
       "      <td>Waiting to Exhale</td>\n",
       "      <td>Cheated on, mistreated and stepped on, the wom...</td>\n",
       "      <td>3.859495</td>\n",
       "      <td>/16XOMpEaLWkrcPqSQqhTmeJuqQl.jpg</td>\n",
       "      <td>...</td>\n",
       "      <td>NaN</td>\n",
       "      <td>NaN</td>\n",
       "      <td>NaN</td>\n",
       "      <td>NaN</td>\n",
       "      <td>Comedy, Drama, Romance</td>\n",
       "      <td>35, 18, 10749</td>\n",
       "      <td>NaN</td>\n",
       "      <td>US</td>\n",
       "      <td>Twentieth Century Fox Film Corporation</td>\n",
       "      <td>306</td>\n",
       "    </tr>\n",
       "    <tr>\n",
       "      <th>4</th>\n",
       "      <td>False</td>\n",
       "      <td>0</td>\n",
       "      <td>NANE</td>\n",
       "      <td>11862</td>\n",
       "      <td>tt0113041</td>\n",
       "      <td>en</td>\n",
       "      <td>Father of the Bride Part II</td>\n",
       "      <td>Just when George Banks has recovered from his ...</td>\n",
       "      <td>8.387519</td>\n",
       "      <td>/e64sOI48hQXyru7naBFyssKFxVd.jpg</td>\n",
       "      <td>...</td>\n",
       "      <td>Father of the Bride Collection</td>\n",
       "      <td>96871.0</td>\n",
       "      <td>/nts4iOmNnq7GNicycMJ9pSAn204.jpg</td>\n",
       "      <td>/7qwE57OVZmMJChBpLEbJEmzUydk.jpg</td>\n",
       "      <td>Comedy</td>\n",
       "      <td>35</td>\n",
       "      <td>NaN</td>\n",
       "      <td>US</td>\n",
       "      <td>Sandollar Productions, Touchstone Pictures</td>\n",
       "      <td>5842, 9195</td>\n",
       "    </tr>\n",
       "  </tbody>\n",
       "</table>\n",
       "<p>5 rows × 30 columns</p>\n",
       "</div>"
      ],
      "text/plain": [
       "   adult    budget                              homepage     id    imdb_id  \\\n",
       "0  False  30000000  http://toystory.disney.com/toy-story    862  tt0114709   \n",
       "1  False  65000000                                  NANE   8844  tt0113497   \n",
       "2  False         0                                  NANE  15602  tt0113228   \n",
       "3  False  16000000                                  NANE  31357  tt0114885   \n",
       "4  False         0                                  NANE  11862  tt0113041   \n",
       "\n",
       "  original_language               original_title  \\\n",
       "0                en                    Toy Story   \n",
       "1                en                      Jumanji   \n",
       "2                en             Grumpier Old Men   \n",
       "3                en            Waiting to Exhale   \n",
       "4                en  Father of the Bride Part II   \n",
       "\n",
       "                                            overview  popularity  \\\n",
       "0  Led by Woody, Andy's toys live happily in his ...   21.946943   \n",
       "1  When siblings Judy and Peter discover an encha...   17.015539   \n",
       "2  A family wedding reignites the ancient feud be...   11.712900   \n",
       "3  Cheated on, mistreated and stepped on, the wom...    3.859495   \n",
       "4  Just when George Banks has recovered from his ...    8.387519   \n",
       "\n",
       "                        poster_path  ...      name_belongs_to_collection  \\\n",
       "0  /rhIRbceoE9lR4veEXuwCC2wARtG.jpg  ...            Toy Story Collection   \n",
       "1  /vzmL6fP7aPKNKPRTFnZmiUfciyV.jpg  ...                             NaN   \n",
       "2  /6ksm1sjKMFLbO7UY2i6G1ju9SML.jpg  ...       Grumpy Old Men Collection   \n",
       "3  /16XOMpEaLWkrcPqSQqhTmeJuqQl.jpg  ...                             NaN   \n",
       "4  /e64sOI48hQXyru7naBFyssKFxVd.jpg  ...  Father of the Bride Collection   \n",
       "\n",
       "  id_belongs_to_collection  poster_path_belongs_to_collection  \\\n",
       "0                  10194.0   /7G9915LfUQ2lVfwMEEhDsn3kT4B.jpg   \n",
       "1                      NaN                                NaN   \n",
       "2                 119050.0   /nLvUdqgPgm3F85NMCii9gVFUcet.jpg   \n",
       "3                      NaN                                NaN   \n",
       "4                  96871.0   /nts4iOmNnq7GNicycMJ9pSAn204.jpg   \n",
       "\n",
       "  backdrop_path_belongs_to_collection                 name_genres  \\\n",
       "0    /9FBwqcd9IRruEDUrTdcaafOMKUq.jpg   Animation, Comedy, Family   \n",
       "1                                 NaN  Adventure, Fantasy, Family   \n",
       "2    /hypTnLot2z8wpFS7qwsQHW1uV8u.jpg             Romance, Comedy   \n",
       "3                                 NaN      Comedy, Drama, Romance   \n",
       "4    /7qwE57OVZmMJChBpLEbJEmzUydk.jpg                      Comedy   \n",
       "\n",
       "       id_genres name_production_countries  iso_3166_1_production_companies  \\\n",
       "0  16, 35, 10751                       NaN                               US   \n",
       "1  12, 14, 10751                       NaN                               US   \n",
       "2      10749, 35                       NaN                               US   \n",
       "3  35, 18, 10749                       NaN                               US   \n",
       "4             35                       NaN                               US   \n",
       "\n",
       "                           name_production_companies  id_production_companies  \n",
       "0                            Pixar Animation Studios                        3  \n",
       "1  TriStar Pictures, Teitler Film, Interscope Com...         559, 2550, 10201  \n",
       "2                       Warner Bros., Lancaster Gate              6194, 19464  \n",
       "3             Twentieth Century Fox Film Corporation                      306  \n",
       "4         Sandollar Productions, Touchstone Pictures               5842, 9195  \n",
       "\n",
       "[5 rows x 30 columns]"
      ]
     },
     "execution_count": 47,
     "metadata": {},
     "output_type": "execute_result"
    }
   ],
   "source": [
    "movies = pd.read_csv('data/NewMoviesMetadata.csv')\n",
    "movies.head()"
   ]
  },
  {
   "cell_type": "code",
   "execution_count": 48,
   "metadata": {},
   "outputs": [
    {
     "data": {
      "text/plain": [
       "(45443, 30)"
      ]
     },
     "execution_count": 48,
     "metadata": {},
     "output_type": "execute_result"
    }
   ],
   "source": [
    "movies.shape"
   ]
  },
  {
   "cell_type": "code",
   "execution_count": 49,
   "metadata": {},
   "outputs": [
    {
     "name": "stdout",
     "output_type": "stream",
     "text": [
      "<class 'pandas.core.frame.DataFrame'>\n",
      "RangeIndex: 45443 entries, 0 to 45442\n",
      "Data columns (total 30 columns):\n",
      " #   Column                               Non-Null Count  Dtype  \n",
      "---  ------                               --------------  -----  \n",
      " 0   adult                                45443 non-null  bool   \n",
      " 1   budget                               45443 non-null  int64  \n",
      " 2   homepage                             45443 non-null  object \n",
      " 3   id                                   45443 non-null  int64  \n",
      " 4   imdb_id                              45443 non-null  object \n",
      " 5   original_language                    45443 non-null  object \n",
      " 6   original_title                       45443 non-null  object \n",
      " 7   overview                             45443 non-null  object \n",
      " 8   popularity                           45443 non-null  float64\n",
      " 9   poster_path                          45443 non-null  object \n",
      " 10  production_companies                 45443 non-null  object \n",
      " 11  release_date                         45443 non-null  object \n",
      " 12  revenue                              45443 non-null  float64\n",
      " 13  runtime                              45443 non-null  object \n",
      " 14  status                               45443 non-null  object \n",
      " 15  tagline                              45443 non-null  object \n",
      " 16  title                                45443 non-null  object \n",
      " 17  video                                45443 non-null  bool   \n",
      " 18  vote_average                         45443 non-null  float64\n",
      " 19  vote_count                           45443 non-null  float64\n",
      " 20  name_belongs_to_collection           4489 non-null   object \n",
      " 21  id_belongs_to_collection             4489 non-null   float64\n",
      " 22  poster_path_belongs_to_collection    3946 non-null   object \n",
      " 23  backdrop_path_belongs_to_collection  3262 non-null   object \n",
      " 24  name_genres                          43001 non-null  object \n",
      " 25  id_genres                            43001 non-null  object \n",
      " 26  name_production_countries            0 non-null      float64\n",
      " 27  iso_3166_1_production_companies      39164 non-null  object \n",
      " 28  name_production_companies            33573 non-null  object \n",
      " 29  id_production_companies              33573 non-null  object \n",
      "dtypes: bool(2), float64(6), int64(2), object(20)\n",
      "memory usage: 9.8+ MB\n"
     ]
    }
   ],
   "source": [
    "movies.info()"
   ]
  },
  {
   "cell_type": "code",
   "execution_count": 50,
   "metadata": {},
   "outputs": [
    {
     "data": {
      "text/plain": [
       "adult                                      0\n",
       "budget                                     0\n",
       "homepage                                   0\n",
       "id                                         0\n",
       "imdb_id                                    0\n",
       "original_language                          0\n",
       "original_title                             0\n",
       "overview                                   0\n",
       "popularity                                 0\n",
       "poster_path                                0\n",
       "production_companies                       0\n",
       "release_date                               0\n",
       "revenue                                    0\n",
       "runtime                                    0\n",
       "status                                     0\n",
       "tagline                                    0\n",
       "title                                      0\n",
       "video                                      0\n",
       "vote_average                               0\n",
       "vote_count                                 0\n",
       "name_belongs_to_collection             40954\n",
       "id_belongs_to_collection               40954\n",
       "poster_path_belongs_to_collection      41497\n",
       "backdrop_path_belongs_to_collection    42181\n",
       "name_genres                             2442\n",
       "id_genres                               2442\n",
       "name_production_countries              45443\n",
       "iso_3166_1_production_companies         6279\n",
       "name_production_companies              11870\n",
       "id_production_companies                11870\n",
       "dtype: int64"
      ]
     },
     "execution_count": 50,
     "metadata": {},
     "output_type": "execute_result"
    }
   ],
   "source": [
    "# Check Missing Values\n",
    "movies.isnull().sum()"
   ]
  },
  {
   "attachments": {},
   "cell_type": "markdown",
   "metadata": {},
   "source": [
    "#### adult"
   ]
  },
  {
   "cell_type": "code",
   "execution_count": 51,
   "metadata": {},
   "outputs": [
    {
     "data": {
      "text/plain": [
       "0        False\n",
       "1        False\n",
       "2        False\n",
       "3        False\n",
       "4        False\n",
       "         ...  \n",
       "45438    False\n",
       "45439    False\n",
       "45440    False\n",
       "45441    False\n",
       "45442    False\n",
       "Name: adult, Length: 45443, dtype: bool"
      ]
     },
     "execution_count": 51,
     "metadata": {},
     "output_type": "execute_result"
    }
   ],
   "source": [
    "movies['adult']"
   ]
  },
  {
   "cell_type": "code",
   "execution_count": 52,
   "metadata": {},
   "outputs": [
    {
     "data": {
      "text/plain": [
       "count     45443\n",
       "unique        2\n",
       "top       False\n",
       "freq      45434\n",
       "Name: adult, dtype: object"
      ]
     },
     "execution_count": 52,
     "metadata": {},
     "output_type": "execute_result"
    }
   ],
   "source": [
    "movies['adult'].describe()"
   ]
  },
  {
   "cell_type": "code",
   "execution_count": 53,
   "metadata": {},
   "outputs": [
    {
     "data": {
      "text/plain": [
       "array([False,  True])"
      ]
     },
     "execution_count": 53,
     "metadata": {},
     "output_type": "execute_result"
    }
   ],
   "source": [
    "movies['adult'].unique()"
   ]
  },
  {
   "cell_type": "code",
   "execution_count": 54,
   "metadata": {},
   "outputs": [
    {
     "data": {
      "image/png": "[encoded data removed]",
      "text/plain": [
       "<Figure size 640x480 with 1 Axes>"
      ]
     },
     "metadata": {},
     "output_type": "display_data"
    }
   ],
   "source": [
    "labels = ['False', 'True']\n",
    "sns.countplot(x=movies['adult'], label=labels)\n",
    "plt.legend()\n",
    "plt.show()"
   ]
  },
  {
   "cell_type": "code",
   "execution_count": 55,
   "metadata": {},
   "outputs": [
    {
     "data": {
      "image/png": "[encoded data removed]",
      "text/plain": [
       "<Figure size 640x480 with 1 Axes>"
      ]
     },
     "metadata": {},
     "output_type": "display_data"
    }
   ],
   "source": [
    "labels = ['False','True']\n",
    "plt.pie(movies['adult'].value_counts().values, labels=labels, autopct='%1.2f%%')\n",
    "plt.show()"
   ]
  },
  {
   "cell_type": "code",
   "execution_count": 56,
   "metadata": {},
   "outputs": [
    {
     "data": {
      "text/plain": [
       "(45443, 29)"
      ]
     },
     "execution_count": 56,
     "metadata": {},
     "output_type": "execute_result"
    }
   ],
   "source": [
    "movies.drop(columns=['adult'], inplace=True)\n",
    "movies.shape"
   ]
  },
  {
   "attachments": {},
   "cell_type": "markdown",
   "metadata": {},
   "source": [
    "### Conclusion\n",
    "According to the analysis, we see that the adult feature of all the movies (almost 99.98%) is False . Therefore, this feature does not give us much useful information about the dataset"
   ]
  },
  {
   "attachments": {},
   "cell_type": "markdown",
   "metadata": {},
   "source": [
    "### budget"
   ]
  },
  {
   "cell_type": "code",
   "execution_count": 42,
   "metadata": {},
   "outputs": [
    {
     "data": {
      "text/plain": [
       "0        30000000\n",
       "1        65000000\n",
       "2               0\n",
       "3        16000000\n",
       "4               0\n",
       "           ...   \n",
       "45438           0\n",
       "45439           0\n",
       "45440           0\n",
       "45441           0\n",
       "45442           0\n",
       "Name: budget, Length: 45443, dtype: int64"
      ]
     },
     "execution_count": 42,
     "metadata": {},
     "output_type": "execute_result"
    }
   ],
   "source": [
    "movies['budget']"
   ]
  },
  {
   "cell_type": "code",
   "execution_count": 43,
   "metadata": {},
   "outputs": [
    {
     "data": {
      "text/plain": [
       "count    4.544300e+04\n",
       "mean     4.226417e+06\n",
       "std      1.742775e+07\n",
       "min      0.000000e+00\n",
       "25%      0.000000e+00\n",
       "50%      0.000000e+00\n",
       "75%      0.000000e+00\n",
       "max      3.800000e+08\n",
       "Name: budget, dtype: float64"
      ]
     },
     "execution_count": 43,
     "metadata": {},
     "output_type": "execute_result"
    }
   ],
   "source": [
    "movies['budget'].describe()"
   ]
  },
  {
   "cell_type": "code",
   "execution_count": 44,
   "metadata": {},
   "outputs": [
    {
     "data": {
      "image/png": "[encoded data removed]",
      "text/plain": [
       "<Figure size 640x480 with 1 Axes>"
      ]
     },
     "metadata": {},
     "output_type": "display_data"
    }
   ],
   "source": [
    "sns.histplot(movies['budget'])\n",
    "plt.show()"
   ]
  },
  {
   "cell_type": "code",
   "execution_count": 45,
   "metadata": {},
   "outputs": [
    {
     "data": {
      "text/plain": [
       "0        30.0\n",
       "1        65.0\n",
       "2         0.0\n",
       "3        16.0\n",
       "4         0.0\n",
       "         ... \n",
       "45438     0.0\n",
       "45439     0.0\n",
       "45440     0.0\n",
       "45441     0.0\n",
       "45442     0.0\n",
       "Name: budget, Length: 45443, dtype: float64"
      ]
     },
     "execution_count": 45,
     "metadata": {},
     "output_type": "execute_result"
    }
   ],
   "source": [
    "# convert to million dollors\n",
    "movies['budget'] = movies['budget'] * 1e-6\n",
    "movies['budget']"
   ]
  },
  {
   "attachments": {},
   "cell_type": "markdown",
   "metadata": {},
   "source": [
    "### Conclusion\n",
    "According to the describe and also the histogram, we see that the amount of budget for most of the films is zero, which seems illogical."
   ]
  },
  {
   "attachments": {},
   "cell_type": "markdown",
   "metadata": {},
   "source": [
    "### homepage"
   ]
  },
  {
   "cell_type": "code",
   "execution_count": 57,
   "metadata": {},
   "outputs": [
    {
     "data": {
      "text/plain": [
       "0        http://toystory.disney.com/toy-story\n",
       "1                                        NANE\n",
       "2                                        NANE\n",
       "3                                        NANE\n",
       "4                                        NANE\n",
       "                         ...                 \n",
       "45438    http://www.imdb.com/title/tt6209470/\n",
       "45439                                    NANE\n",
       "45440                                    NANE\n",
       "45441                                    NANE\n",
       "45442                                    NANE\n",
       "Name: homepage, Length: 45443, dtype: object"
      ]
     },
     "execution_count": 57,
     "metadata": {},
     "output_type": "execute_result"
    }
   ],
   "source": [
    "movies['homepage']"
   ]
  },
  {
   "cell_type": "code",
   "execution_count": 63,
   "metadata": {},
   "outputs": [
    {
     "data": {
      "text/plain": [
       "0        http://toystory.disney.com/toy-story\n",
       "1                                         NaN\n",
       "2                                         NaN\n",
       "3                                         NaN\n",
       "4                                         NaN\n",
       "                         ...                 \n",
       "45438    http://www.imdb.com/title/tt6209470/\n",
       "45439                                     NaN\n",
       "45440                                     NaN\n",
       "45441                                     NaN\n",
       "45442                                     NaN\n",
       "Name: homepage, Length: 45443, dtype: object"
      ]
     },
     "execution_count": 63,
     "metadata": {},
     "output_type": "execute_result"
    }
   ],
   "source": [
    "for i in range(movies.shape[0]):\n",
    "    if movies.loc[i, 'homepage'] == 'NANE':\n",
    "        movies.loc[i, 'homepage'] = np.nan\n",
    "movies['homepage']"
   ]
  },
  {
   "cell_type": "code",
   "execution_count": 65,
   "metadata": {},
   "outputs": [
    {
     "data": {
      "text/plain": [
       "37667"
      ]
     },
     "execution_count": 65,
     "metadata": {},
     "output_type": "execute_result"
    }
   ],
   "source": [
    "movies['homepage'].isna().sum()"
   ]
  },
  {
   "cell_type": "code",
   "execution_count": 67,
   "metadata": {},
   "outputs": [
    {
     "data": {
      "text/plain": [
       "82.88845366723147"
      ]
     },
     "execution_count": 67,
     "metadata": {},
     "output_type": "execute_result"
    }
   ],
   "source": [
    "movies['homepage'].isna().sum()/len(movies['homepage']) * 100"
   ]
  },
  {
   "attachments": {},
   "cell_type": "markdown",
   "metadata": {},
   "source": [
    "### Conclusion\n",
    "According to the analysis, we see that the homepage feature of almost 83 of movies is NaN . Therefore, this feature does not give us much useful information about the dataset"
   ]
  },
  {
   "cell_type": "code",
   "execution_count": null,
   "metadata": {},
   "outputs": [],
   "source": []
  }
 ],
 "metadata": {
  "kernelspec": {
   "display_name": "Python 3",
   "language": "python",
   "name": "python3"
  },
  "language_info": {
   "codemirror_mode": {
    "name": "ipython",
    "version": 3
   },
   "file_extension": ".py",
   "mimetype": "text/x-python",
   "name": "python",
   "nbconvert_exporter": "python",
   "pygments_lexer": "ipython3",
   "version": "3.11.2"
  },
  "orig_nbformat": 4
 },
 "nbformat": 4,
 "nbformat_minor": 2
}
